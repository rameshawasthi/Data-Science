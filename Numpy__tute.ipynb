{
  "cells": [
    {
      "cell_type": "markdown",
      "metadata": {
        "id": "view-in-github",
        "colab_type": "text"
      },
      "source": [
        "<a href=\"https://colab.research.google.com/github/rameshawasthi/Data-Science/blob/main/Numpy__tute.ipynb\" target=\"_parent\"><img src=\"https://colab.research.google.com/assets/colab-badge.svg\" alt=\"Open In Colab\"/></a>"
      ]
    },
    {
      "cell_type": "markdown",
      "metadata": {
        "id": "QwhrYrzhyzI0"
      },
      "source": [
        "# 1. Introduction: NumPy\n",
        "\n",
        "1.Arithmetic Operation\n",
        "\n",
        "2.Searching,sorting,counting\n",
        "\n",
        "3.Mathematical operation\n",
        "\n",
        "4.Linear algebra\n",
        "\n",
        "5.Statics operation\n",
        "\n",
        "6.Broadcasting\n",
        "\n",
        "7.Matrix operations\n",
        "\n",
        "8.Sacking\n",
        "\n",
        "9.Copy and viewing arrays\n",
        "\n",
        "10.Bitwise Operation\n",
        "\n",
        "11.Statistics operations"
      ]
    },
    {
      "cell_type": "markdown",
      "metadata": {
        "id": "AYyPCLXC08eh"
      },
      "source": [
        "#    Python Lists                      \n",
        "1. No Support for Vectorized operations.\n",
        "2. No fixed type elements.                \n",
        "3. For loops not efficient.               \n",
        "4. Lists are built-in data structures.\n",
        "5. List can hold elemetns of different types.\n",
        "   **list = [\"ball\",1234,\"cat\"] -->> [str,int,str]\n",
        "6. List is flexible, we add new element and expands.\n",
        "\n",
        "                                       \n",
        "# NumPy Arrays                                       \n",
        "1. Supports Vectorized operations (Addition, multiplications)                                  \n",
        "2. Fixed data type  \n",
        "3. More efficient\n",
        "4. Code is cleaner and has more advanced built-in-functions.\n",
        "5. Arrays must be imported. **Import numpy as np** \n",
        "6. Arrays which can hold only data of the same data type for eg. only integers or only strings.\n",
        "     \n",
        "     **array = np.array([1,2,2,2,3,4]) -->> [int,int]\n",
        "     \n",
        "\n",
        "7. Numpy Array consume less memory than List. \n",
        "8. Compution is much faster than list.\n",
        "9. Once we define the dimension  of an array, can not expand it anymore , limited. \n",
        "10. Same tasks with in fewer lines.\n",
        "       -->Fewer loops\n",
        "       -->  Advance Mathematical functions.\n",
        "       \n",
        "**array = np.array([1,2,3,4,5])\n",
        "                                       \n",
        "**Applications Of NumPy *\n",
        "1.Machine Learning and computional packages\n",
        "2.Essential library for scientific projects\n",
        " \n",
        "**some well known library use NumPy.\n",
        "    Scipy,Scikit Learn, Matplotlib, Pandas, Statsmodel\n",
        "    Numpy is zero cost ; Open Source.\n",
        "\n",
        " **Some similar between Python list and NumPy Array.\n",
        "1.Python list and  NumPy arrays have same Syntax. \n",
        "2.There elements are ordered, Mutable and are able to store duplicate items.\n",
        "3.They also allow indexing, slicing and iterating."
      ]
    },
    {
      "cell_type": "markdown",
      "metadata": {
        "id": "_uO8KEAb5Den"
      },
      "source": [
        "Array Types and Conversions Between Types"
      ]
    },
    {
      "cell_type": "code",
      "execution_count": null,
      "metadata": {
        "id": "Q5QpDse1MB1Z"
      },
      "outputs": [],
      "source": [
        "import numpy as np"
      ]
    },
    {
      "cell_type": "code",
      "execution_count": null,
      "metadata": {
        "id": "tuAXnb2Z5Deo",
        "outputId": "2b430ddd-41a8-43a9-b6f2-6807a4a130c5"
      },
      "outputs": [
        {
          "name": "stdout",
          "output_type": "stream",
          "text": [
            "[[0.12141492]\n",
            " [0.67375589]\n",
            " [1.91506148]\n",
            " ...\n",
            " [2.54321501]\n",
            " [2.42290436]\n",
            " [0.39557539]]\n",
            "Regular for loop= 461.8847370147705ms\n",
            "\n",
            "\n",
            "[[0.12141492]\n",
            " [0.67375589]\n",
            " [1.91506148]\n",
            " ...\n",
            " [2.54321501]\n",
            " [2.42290436]\n",
            " [0.39557539]]\n",
            "Numpy operation= 6.728410720825195ms\n",
            "\n",
            "\n",
            "Numpy is 68.65 times faster than for loop in Python.\n"
          ]
        }
      ],
      "source": [
        "## comparision between Numpy Array and Python for loop ( Computation time)\n",
        "import time\n",
        "import math\n",
        "import numpy as np\n",
        "\n",
        "iter = 1000000\n",
        "\n",
        "x = np.zeros((iter,1))\n",
        "v = np.random.randn(iter,1)\n",
        "\n",
        "before = time.time()\n",
        "\n",
        "for i in range(iter):\n",
        "    x[i] = math.exp(v[i])\n",
        "after = time.time()\n",
        "print(x)\n",
        "print(\"Regular for loop= \" + str((after-before)*1000) + \"ms\")\n",
        "print('\\n')\n",
        "time1 = (after-before)*1000\n",
        "\n",
        "before = time.time()\n",
        "x = np.exp(v)\n",
        "after = time.time()\n",
        "print(x)\n",
        "print(\"Numpy operation= \" + str((after-before)*1000) + \"ms\")\n",
        "time2 = (after-before)*1000\n",
        "print('\\n')\n",
        "print(\"Numpy is \"+ str(round(time1/time2,2)) + \" times faster than for loop in Python.\")"
      ]
    },
    {
      "cell_type": "code",
      "execution_count": null,
      "metadata": {
        "id": "CVpuOJE55Dep",
        "outputId": "dea7d2ba-947d-430b-c232-155c92c9b0ef"
      },
      "outputs": [
        {
          "data": {
            "text/plain": [
              "array([ 2,  3,  4,  5, 10])"
            ]
          },
          "execution_count": 30,
          "metadata": {},
          "output_type": "execute_result"
        }
      ],
      "source": [
        "array = np.array([2,3,4,5,10])\n",
        "array"
      ]
    },
    {
      "cell_type": "code",
      "execution_count": null,
      "metadata": {
        "id": "8GS6FiXZ5Deq",
        "outputId": "8c0b3f12-6881-48d0-c5fe-64247b14f76e"
      },
      "outputs": [
        {
          "data": {
            "text/plain": [
              "2"
            ]
          },
          "execution_count": 31,
          "metadata": {},
          "output_type": "execute_result"
        }
      ],
      "source": [
        "array[0]"
      ]
    },
    {
      "cell_type": "code",
      "execution_count": null,
      "metadata": {
        "id": "LvRxkvuI5Deq",
        "outputId": "a0270ed1-8765-4a8d-d492-d499c6835a64"
      },
      "outputs": [
        {
          "data": {
            "text/plain": [
              "array([  2, 100,   4,   5,  10])"
            ]
          },
          "execution_count": 32,
          "metadata": {},
          "output_type": "execute_result"
        }
      ],
      "source": [
        "#adding new element in index one\n",
        "array[1] = 100\n",
        "array"
      ]
    },
    {
      "cell_type": "code",
      "execution_count": null,
      "metadata": {
        "id": "lUqyBJQJ5Deq",
        "outputId": "bae5edab-220a-4f01-b3e2-c3ad405efcb6"
      },
      "outputs": [
        {
          "data": {
            "text/plain": [
              "array([  2, 100,   4,   5,  10])"
            ]
          },
          "execution_count": 5,
          "metadata": {},
          "output_type": "execute_result"
        }
      ],
      "source": [
        "#adding nwew float point in index one.\n",
        "array[1]=100.1\n",
        "array"
      ]
    },
    {
      "cell_type": "markdown",
      "metadata": {
        "id": "Cg5Rh1Sh5Deq"
      },
      "source": [
        "## 2.Numpy Array Type and Creating Numpy Array\n"
      ]
    },
    {
      "cell_type": "markdown",
      "metadata": {
        "id": "jV2WAn8H5Der"
      },
      "source": [
        "**Array types and onversion between types\n",
        "1. over come unwanted overflow, if don't define dtype.\n",
        "2. memory consumption and precision which especially irrelent Machine learning algorithm."
      ]
    },
    {
      "cell_type": "code",
      "execution_count": null,
      "metadata": {
        "id": "_FWqo7ny5Der",
        "outputId": "7a9c6a87-9e36-4b13-abe0-36a5bd7a1991"
      },
      "outputs": [
        {
          "data": {
            "text/plain": [
              "dtype('int32')"
            ]
          },
          "execution_count": 13,
          "metadata": {},
          "output_type": "execute_result"
        }
      ],
      "source": [
        "array.dtype"
      ]
    },
    {
      "cell_type": "code",
      "execution_count": null,
      "metadata": {
        "id": "6V7fHKDN5Der"
      },
      "outputs": [],
      "source": [
        "array_dsize = np.array(array, dtype=np.int8)"
      ]
    },
    {
      "cell_type": "code",
      "execution_count": null,
      "metadata": {
        "id": "aOw36Vv-5Der",
        "outputId": "e1044d0d-8429-4e34-844c-e38992aba452"
      },
      "outputs": [
        {
          "data": {
            "text/plain": [
              "array([  2, 100,   4,   5,  10], dtype=int8)"
            ]
          },
          "execution_count": 8,
          "metadata": {},
          "output_type": "execute_result"
        }
      ],
      "source": [
        "array_dsize"
      ]
    },
    {
      "cell_type": "code",
      "execution_count": null,
      "metadata": {
        "id": "uEo5YSll5Der",
        "outputId": "b866b1b2-c439-41c1-bc9c-8d87f929e98d"
      },
      "outputs": [
        {
          "data": {
            "text/plain": [
              "20"
            ]
          },
          "execution_count": 9,
          "metadata": {},
          "output_type": "execute_result"
        }
      ],
      "source": [
        "array.nbytes"
      ]
    },
    {
      "cell_type": "code",
      "execution_count": null,
      "metadata": {
        "id": "ZFB6CDCk5Des",
        "outputId": "e7ca1bf7-f708-4c55-fdff-f10c8b5012cd"
      },
      "outputs": [
        {
          "data": {
            "text/plain": [
              "5"
            ]
          },
          "execution_count": 10,
          "metadata": {},
          "output_type": "execute_result"
        }
      ],
      "source": [
        "#this take 4 time less memory than array.nbytes\n",
        "array_dsize.nbytes"
      ]
    },
    {
      "cell_type": "code",
      "execution_count": null,
      "metadata": {
        "id": "2fEsBd-V5Des",
        "outputId": "719950ff-9cd8-4dbd-e17e-a01b47f82b68"
      },
      "outputs": [
        {
          "data": {
            "text/plain": [
              "array([ 12,  13,  14,  15, 100], dtype=int8)"
            ]
          },
          "execution_count": 11,
          "metadata": {},
          "output_type": "execute_result"
        }
      ],
      "source": [
        "array_dtype = np.array([12,13,14,15,100], dtype = np.int8)\n",
        "array_dtype"
      ]
    },
    {
      "cell_type": "code",
      "execution_count": null,
      "metadata": {
        "id": "0rJaYaKF5Des",
        "outputId": "a1838680-3f9c-4da0-917d-004cdca65e4a"
      },
      "outputs": [
        {
          "data": {
            "text/plain": [
              "array([ 1.3 ,  4.5 ,  8.8 , 10.12, 90.99])"
            ]
          },
          "execution_count": 14,
          "metadata": {},
          "output_type": "execute_result"
        }
      ],
      "source": [
        "array_float = np.array([1.3,4.5,8.8,10.12,90.99])\n",
        "array_float\n"
      ]
    },
    {
      "cell_type": "code",
      "execution_count": null,
      "metadata": {
        "id": "5jAmsCQd5Des",
        "outputId": "85ec10f9-323d-4917-c08f-8c5fc5efda7d"
      },
      "outputs": [
        {
          "data": {
            "text/plain": [
              "dtype('float64')"
            ]
          },
          "execution_count": 13,
          "metadata": {},
          "output_type": "execute_result"
        }
      ],
      "source": [
        "array_float.dtype"
      ]
    },
    {
      "cell_type": "markdown",
      "metadata": {
        "id": "A5shWJqx5Des"
      },
      "source": [
        "**Multidimensional Arrays\n",
        "1. The NumPy array called ndarray is the central object of the NumPy package.\n",
        "2. One-dimensional array can be thought of as a vetor, Two-dimensional array as a matrix and three-dimensional arrays as a tensor, if you more than three-dimensional its simply with NumPy building functions."
      ]
    },
    {
      "cell_type": "code",
      "execution_count": null,
      "metadata": {
        "id": "6HQYHETf5Det",
        "outputId": "a94fc1f3-630e-42c8-ee6c-88c09c0fe58e"
      },
      "outputs": [
        {
          "data": {
            "text/plain": [
              "array([[1, 2, 3, 4],\n",
              "       [5, 6, 7, 6]])"
            ]
          },
          "execution_count": 33,
          "metadata": {},
          "output_type": "execute_result"
        }
      ],
      "source": [
        "#two-dimensional array\n",
        "twd_array=np.array([[1,2,3,4],[5,6,7,6]])\n",
        "twd_array"
      ]
    },
    {
      "cell_type": "code",
      "execution_count": null,
      "metadata": {
        "id": "J3DO17415Det",
        "outputId": "f75026a1-9883-45f7-dcb9-8fdf278b11cb"
      },
      "outputs": [
        {
          "data": {
            "text/plain": [
              "1"
            ]
          },
          "execution_count": 34,
          "metadata": {},
          "output_type": "execute_result"
        }
      ],
      "source": [
        "twd_array[0,0]"
      ]
    },
    {
      "cell_type": "code",
      "execution_count": null,
      "metadata": {
        "id": "Ec578AS25Dev",
        "outputId": "f06e2ea2-aa2d-477a-eed7-883dc5a18ea0"
      },
      "outputs": [
        {
          "data": {
            "text/plain": [
              "2"
            ]
          },
          "execution_count": 35,
          "metadata": {},
          "output_type": "execute_result"
        }
      ],
      "source": [
        "#check dimensional of array\n",
        "twd_array.ndim"
      ]
    },
    {
      "cell_type": "code",
      "execution_count": null,
      "metadata": {
        "id": "wzvgfrf35Dew",
        "outputId": "ac0b6d08-bf56-4a86-98e7-d6ba930724f8"
      },
      "outputs": [
        {
          "data": {
            "text/plain": [
              "array([[[1, 2, 3],\n",
              "        [2, 5, 6],\n",
              "        [7, 8, 9]]])"
            ]
          },
          "execution_count": 36,
          "metadata": {},
          "output_type": "execute_result"
        }
      ],
      "source": [
        "#three diminsional array\n",
        "thd_array = np.array([[[1,2,3],[2,5,6],[7,8,9]]])\n",
        "thd_array"
      ]
    },
    {
      "cell_type": "code",
      "execution_count": null,
      "metadata": {
        "id": "82dzfyBp5Dew",
        "outputId": "fc0daa5d-071e-44cb-b928-85cb81b6d31e"
      },
      "outputs": [
        {
          "data": {
            "text/plain": [
              "3"
            ]
          },
          "execution_count": 37,
          "metadata": {},
          "output_type": "execute_result"
        }
      ],
      "source": [
        "thd_array.ndim"
      ]
    },
    {
      "cell_type": "code",
      "execution_count": null,
      "metadata": {
        "id": "xCrVm_Gg5Dew",
        "outputId": "4279e777-22ac-4572-96bc-8868d36e1f1f"
      },
      "outputs": [
        {
          "data": {
            "text/plain": [
              "3"
            ]
          },
          "execution_count": 39,
          "metadata": {},
          "output_type": "execute_result"
        }
      ],
      "source": [
        "thd_array[0,0,2]"
      ]
    },
    {
      "cell_type": "markdown",
      "metadata": {
        "id": "J4AUb9Q35Dew"
      },
      "source": [
        "**Creating arrays from lists and other Python Structure"
      ]
    },
    {
      "cell_type": "code",
      "execution_count": null,
      "metadata": {
        "id": "anane1uS5Dew"
      },
      "outputs": [],
      "source": [
        "lst = [1,2,4,5,6,7,8,9]"
      ]
    },
    {
      "cell_type": "code",
      "execution_count": null,
      "metadata": {
        "id": "ranZp_EO5Dew",
        "outputId": "18151e5a-7eca-4ff6-a4e8-97b08931d0c7"
      },
      "outputs": [
        {
          "data": {
            "text/plain": [
              "array([1, 2, 4, 5, 6, 7, 8, 9])"
            ]
          },
          "execution_count": 41,
          "metadata": {},
          "output_type": "execute_result"
        }
      ],
      "source": [
        "array_lst = np.array(lst)\n",
        "array_lst"
      ]
    },
    {
      "cell_type": "code",
      "execution_count": null,
      "metadata": {
        "id": "QjZM9c7a5Dex"
      },
      "outputs": [],
      "source": [
        "nums = [1,4,5.999,-1.23,-4,99.9999]"
      ]
    },
    {
      "cell_type": "code",
      "execution_count": null,
      "metadata": {
        "id": "hGYeEzUd5Dex",
        "outputId": "58160a83-6ccb-4fa9-e5d6-ff3085dc57d7"
      },
      "outputs": [
        {
          "data": {
            "text/plain": [
              "array([ 1.    ,  4.    ,  5.999 , -1.23  , -4.    , 99.9999])"
            ]
          },
          "execution_count": 44,
          "metadata": {},
          "output_type": "execute_result"
        }
      ],
      "source": [
        "array_nums = np.array(nums)\n",
        "array_nums"
      ]
    },
    {
      "cell_type": "code",
      "execution_count": null,
      "metadata": {
        "id": "_HK6nwvF5Dex",
        "outputId": "990ed85f-9979-4371-b0fb-e0e28b656b36"
      },
      "outputs": [
        {
          "data": {
            "text/plain": [
              "dtype('float64')"
            ]
          },
          "execution_count": 45,
          "metadata": {},
          "output_type": "execute_result"
        }
      ],
      "source": [
        "array_nums.dtype"
      ]
    },
    {
      "cell_type": "code",
      "execution_count": null,
      "metadata": {
        "id": "eOnpBtqT5Dex"
      },
      "outputs": [],
      "source": [
        "third_list = ['apple',1,2,5,'cat','dog']"
      ]
    },
    {
      "cell_type": "code",
      "execution_count": null,
      "metadata": {
        "id": "55ALpE2k5Dex",
        "outputId": "25cf83bf-c2de-4619-9103-cfae372bbb91"
      },
      "outputs": [
        {
          "data": {
            "text/plain": [
              "array(['apple', '1', '2', '5', 'cat', 'dog'], dtype='<U11')"
            ]
          },
          "execution_count": 48,
          "metadata": {},
          "output_type": "execute_result"
        }
      ],
      "source": [
        "array_third = np.array(third_list)\n",
        "array_third"
      ]
    },
    {
      "cell_type": "code",
      "execution_count": null,
      "metadata": {
        "id": "TNZcXHU25Dex"
      },
      "outputs": [],
      "source": [
        "multi_dim_list = [[[1,2,3],[3,4,5],[9,8,10]]]"
      ]
    },
    {
      "cell_type": "code",
      "execution_count": null,
      "metadata": {
        "id": "B7Tn2Kr45Dex",
        "outputId": "baa83c69-9453-4c2e-c761-cb4ca7a9872b"
      },
      "outputs": [
        {
          "data": {
            "text/plain": [
              "array([[[ 1,  2,  3],\n",
              "        [ 3,  4,  5],\n",
              "        [ 9,  8, 10]]])"
            ]
          },
          "execution_count": 54,
          "metadata": {},
          "output_type": "execute_result"
        }
      ],
      "source": [
        "array_multi_dim = np.array(multi_dim_list)\n",
        "array_multi_dim"
      ]
    },
    {
      "cell_type": "code",
      "execution_count": null,
      "metadata": {
        "id": "GGP05Em95Dey"
      },
      "outputs": [],
      "source": [
        "tuple_nums = (1,2,4,5,6,7,100)\n"
      ]
    },
    {
      "cell_type": "code",
      "execution_count": null,
      "metadata": {
        "id": "N7zSwSUf5Dey",
        "outputId": "75be4630-32c1-4fb2-ab61-d990b32fc626"
      },
      "outputs": [
        {
          "data": {
            "text/plain": [
              "array([  1,   2,   4,   5,   6,   7, 100])"
            ]
          },
          "execution_count": 50,
          "metadata": {},
          "output_type": "execute_result"
        }
      ],
      "source": [
        "array_tuple = np.array(tuple_nums)\n",
        "array_tuple"
      ]
    },
    {
      "cell_type": "code",
      "execution_count": null,
      "metadata": {
        "id": "DWCDo0Wg5Dey",
        "outputId": "ddc49c88-11b3-4939-e28c-46c8d5836616"
      },
      "outputs": [
        {
          "data": {
            "text/plain": [
              "dtype('int32')"
            ]
          },
          "execution_count": 51,
          "metadata": {},
          "output_type": "execute_result"
        }
      ],
      "source": [
        "array_tuple.dtype"
      ]
    },
    {
      "cell_type": "markdown",
      "metadata": {
        "id": "F0mqPrhJ5Dey"
      },
      "source": [
        "**Intrisic NumPy array Creation"
      ]
    },
    {
      "cell_type": "code",
      "execution_count": null,
      "metadata": {
        "id": "tnzL967_5Dey",
        "outputId": "59c7b142-21d2-4728-c95b-107546330b60"
      },
      "outputs": [
        {
          "data": {
            "text/plain": [
              "array([ 0,  1,  2,  3,  4,  5,  6,  7,  8,  9, 10, 11, 12, 13, 14, 15, 16,\n",
              "       17, 18, 19])"
            ]
          },
          "execution_count": 3,
          "metadata": {},
          "output_type": "execute_result"
        }
      ],
      "source": [
        "array = np.arange(20)\n",
        "array"
      ]
    },
    {
      "cell_type": "code",
      "execution_count": null,
      "metadata": {
        "id": "hv1i52C3_XdT",
        "outputId": "0a6a9b80-b0f6-4863-d159-d1501054c0b4"
      },
      "outputs": [
        {
          "data": {
            "text/plain": [
              "array([10, 11, 12, 13, 14, 15, 16, 17, 18, 19])"
            ]
          },
          "execution_count": 4,
          "metadata": {},
          "output_type": "execute_result"
        }
      ],
      "source": [
        "array = np.arange(10,20)\n",
        "array"
      ]
    },
    {
      "cell_type": "code",
      "execution_count": null,
      "metadata": {
        "id": "VYjOS9Js5Dez",
        "outputId": "9fe0c03e-c56f-4717-e048-fc736552348d"
      },
      "outputs": [
        {
          "data": {
            "text/plain": [
              "array([10, 12, 14, 16, 18, 20, 22, 24, 26, 28, 30, 32, 34, 36, 38, 40])"
            ]
          },
          "execution_count": 6,
          "metadata": {},
          "output_type": "execute_result"
        }
      ],
      "source": [
        "array = np.arange(10,41,2)\n",
        "array"
      ]
    },
    {
      "cell_type": "code",
      "execution_count": null,
      "metadata": {
        "id": "-bh8W_Y25Dez",
        "outputId": "4193bb45-9ea1-414a-aa2f-950df717aa7b"
      },
      "outputs": [
        {
          "data": {
            "text/plain": [
              "array([10.        , 10.40816327, 10.81632653, 11.2244898 , 11.63265306,\n",
              "       12.04081633, 12.44897959, 12.85714286, 13.26530612, 13.67346939,\n",
              "       14.08163265, 14.48979592, 14.89795918, 15.30612245, 15.71428571,\n",
              "       16.12244898, 16.53061224, 16.93877551, 17.34693878, 17.75510204,\n",
              "       18.16326531, 18.57142857, 18.97959184, 19.3877551 , 19.79591837,\n",
              "       20.20408163, 20.6122449 , 21.02040816, 21.42857143, 21.83673469,\n",
              "       22.24489796, 22.65306122, 23.06122449, 23.46938776, 23.87755102,\n",
              "       24.28571429, 24.69387755, 25.10204082, 25.51020408, 25.91836735,\n",
              "       26.32653061, 26.73469388, 27.14285714, 27.55102041, 27.95918367,\n",
              "       28.36734694, 28.7755102 , 29.18367347, 29.59183673, 30.        ])"
            ]
          },
          "execution_count": 7,
          "metadata": {},
          "output_type": "execute_result"
        }
      ],
      "source": [
        "array = np.linspace(10,30)\n",
        "array"
      ]
    },
    {
      "cell_type": "code",
      "execution_count": null,
      "metadata": {
        "id": "2RcMCaFV5Dez",
        "outputId": "f8e0520d-27cf-432d-ea28-2ac892cbb0af"
      },
      "outputs": [
        {
          "data": {
            "text/plain": [
              "array([10., 15., 20., 25., 30.])"
            ]
          },
          "execution_count": 16,
          "metadata": {},
          "output_type": "execute_result"
        }
      ],
      "source": [
        "array = np.linspace(10,30,5)\n",
        "array"
      ]
    },
    {
      "cell_type": "code",
      "execution_count": null,
      "metadata": {
        "id": "QGWeiiOj5Dez",
        "outputId": "961ff64f-dcf9-4343-d447-5922ec0875f3"
      },
      "outputs": [
        {
          "data": {
            "text/plain": [
              "array([[0.9542999 , 0.71239093, 0.88888455, 0.90488098, 0.74325562],\n",
              "       [0.33182353, 0.94763146, 0.86001134, 0.70082372, 0.30725493],\n",
              "       [0.0575304 , 0.0550632 , 0.30162191, 0.6966861 , 0.28773108],\n",
              "       [0.70940368, 0.86810313, 0.04617945, 0.79321346, 0.47748578],\n",
              "       [0.24548673, 0.57844721, 0.32001166, 0.72051759, 0.73719348]])"
            ]
          },
          "execution_count": 9,
          "metadata": {},
          "output_type": "execute_result"
        }
      ],
      "source": [
        "array_rand = np.random.rand(5,5)\n",
        "array_rand"
      ]
    },
    {
      "cell_type": "code",
      "execution_count": null,
      "metadata": {
        "id": "JG2YUL775Dez",
        "outputId": "619442fb-8a95-43e2-d587-adfd30276dfa"
      },
      "outputs": [
        {
          "data": {
            "text/plain": [
              "array([12, 16, 51, 24, 40, 36, 83,  0, 91, 60, 14, 59, 18, 85, 31, 52, 59,\n",
              "       69, 16, 47])"
            ]
          },
          "execution_count": 10,
          "metadata": {},
          "output_type": "execute_result"
        }
      ],
      "source": [
        "array_randint = np.random.randint(0,100,20)\n",
        "array_randint"
      ]
    },
    {
      "cell_type": "markdown",
      "metadata": {
        "id": "H-s3Aav05Dez"
      },
      "source": [
        "**Creating array filled with constant values"
      ]
    },
    {
      "cell_type": "code",
      "execution_count": null,
      "metadata": {
        "id": "quiuDilh5Dez",
        "outputId": "c76a3ab4-1dd3-4495-943c-231021e83216"
      },
      "outputs": [
        {
          "data": {
            "text/plain": [
              "array([0., 0., 0., 0.])"
            ]
          },
          "execution_count": 17,
          "metadata": {},
          "output_type": "execute_result"
        }
      ],
      "source": [
        "array = np.zeros(4)\n",
        "array"
      ]
    },
    {
      "cell_type": "code",
      "execution_count": null,
      "metadata": {
        "id": "dCcmRGM55De0",
        "outputId": "f25bb868-63ee-4b9f-ff5a-8a027568e8bb"
      },
      "outputs": [
        {
          "data": {
            "text/plain": [
              "array([[0., 0., 0., 0., 0.],\n",
              "       [0., 0., 0., 0., 0.],\n",
              "       [0., 0., 0., 0., 0.],\n",
              "       [0., 0., 0., 0., 0.]])"
            ]
          },
          "execution_count": 18,
          "metadata": {},
          "output_type": "execute_result"
        }
      ],
      "source": [
        "array = np.zeros((4,5))\n",
        "array"
      ]
    },
    {
      "cell_type": "code",
      "execution_count": null,
      "metadata": {
        "id": "2G1YX8SZ5De0",
        "outputId": "2d644e78-33cc-4b0f-87db-a9c615f0f5a0"
      },
      "outputs": [
        {
          "data": {
            "text/plain": [
              "array([1., 1., 1., 1., 1.])"
            ]
          },
          "execution_count": 20,
          "metadata": {},
          "output_type": "execute_result"
        }
      ],
      "source": [
        "array = np.ones(5)\n",
        "array"
      ]
    },
    {
      "cell_type": "code",
      "execution_count": null,
      "metadata": {
        "id": "4AMPrcaW5De0",
        "outputId": "97d67d8a-c486-4dec-e312-fad5fd8f958b"
      },
      "outputs": [
        {
          "data": {
            "text/plain": [
              "array([[1., 1., 1., 1., 1., 1.],\n",
              "       [1., 1., 1., 1., 1., 1.],\n",
              "       [1., 1., 1., 1., 1., 1.],\n",
              "       [1., 1., 1., 1., 1., 1.],\n",
              "       [1., 1., 1., 1., 1., 1.]])"
            ]
          },
          "execution_count": 19,
          "metadata": {},
          "output_type": "execute_result"
        }
      ],
      "source": [
        "array = np.ones((5,6))\n",
        "array"
      ]
    },
    {
      "cell_type": "code",
      "execution_count": null,
      "metadata": {
        "id": "A5KBGkAW5De0",
        "outputId": "41f8608d-df33-4846-d8a1-ba15db8facd9"
      },
      "outputs": [
        {
          "data": {
            "text/plain": [
              "array([[1, 1, 1, 1, 1, 1],\n",
              "       [1, 1, 1, 1, 1, 1],\n",
              "       [1, 1, 1, 1, 1, 1],\n",
              "       [1, 1, 1, 1, 1, 1],\n",
              "       [1, 1, 1, 1, 1, 1]])"
            ]
          },
          "execution_count": 21,
          "metadata": {},
          "output_type": "execute_result"
        }
      ],
      "source": [
        "array = np.ones((5,6), dtype=int)\n",
        "array"
      ]
    },
    {
      "cell_type": "code",
      "execution_count": null,
      "metadata": {
        "id": "_lfUIZDX5De0",
        "outputId": "60629faa-c9e3-43cb-c5ff-fddf7ccb6e31"
      },
      "outputs": [
        {
          "data": {
            "text/plain": [
              "array([10, 10, 10, 10, 10, 10, 10, 10, 10, 10])"
            ]
          },
          "execution_count": 27,
          "metadata": {},
          "output_type": "execute_result"
        }
      ],
      "source": [
        "array = np.empty(10,dtype=int)\n",
        "array.fill(10)\n",
        "array"
      ]
    },
    {
      "cell_type": "code",
      "execution_count": null,
      "metadata": {
        "id": "HSCRgmuZ5De0",
        "outputId": "74ed8f29-94af-4ebd-8ac0-c57f90018752"
      },
      "outputs": [
        {
          "data": {
            "text/plain": [
              "array([10, 10, 10, 10, 10])"
            ]
          },
          "execution_count": 33,
          "metadata": {},
          "output_type": "execute_result"
        }
      ],
      "source": [
        "array = np.full(5,10)\n",
        "array"
      ]
    },
    {
      "cell_type": "code",
      "execution_count": null,
      "metadata": {
        "id": "BiCItVZc5De1",
        "outputId": "031c5d1e-013f-4f79-82d0-fd5b3839fa81"
      },
      "outputs": [
        {
          "data": {
            "text/plain": [
              "array([[8, 8, 8, 8, 8],\n",
              "       [8, 8, 8, 8, 8],\n",
              "       [8, 8, 8, 8, 8],\n",
              "       [8, 8, 8, 8, 8]])"
            ]
          },
          "execution_count": 36,
          "metadata": {},
          "output_type": "execute_result"
        }
      ],
      "source": [
        "array = np.full((4,5),8)\n",
        "array"
      ]
    },
    {
      "cell_type": "markdown",
      "metadata": {
        "id": "OvmNvuW05De1"
      },
      "source": [
        "**Finding the Size and shape of an array"
      ]
    },
    {
      "cell_type": "code",
      "execution_count": null,
      "metadata": {
        "id": "xoIxp2Pu5De1",
        "outputId": "63f5e840-1036-4793-c3dd-facccc1c82ae"
      },
      "outputs": [
        {
          "data": {
            "text/plain": [
              "array([ 0,  1,  2,  3,  4,  5,  6,  7,  8,  9, 10, 11, 12, 13, 14, 15, 16,\n",
              "       17, 18, 19])"
            ]
          },
          "execution_count": 43,
          "metadata": {},
          "output_type": "execute_result"
        }
      ],
      "source": [
        "array_first = np.arange(20)\n",
        "array_first"
      ]
    },
    {
      "cell_type": "code",
      "execution_count": null,
      "metadata": {
        "id": "7jiAr0F75De1",
        "outputId": "bf69d4b9-8cca-4af2-e551-593316ba414c"
      },
      "outputs": [
        {
          "data": {
            "text/plain": [
              "array([[ 1.,  2.],\n",
              "       [ 2.,  4.],\n",
              "       [ 3.,  6.],\n",
              "       [ 4.,  8.],\n",
              "       [ 5., 10.],\n",
              "       [ 6., 12.],\n",
              "       [ 7., 14.],\n",
              "       [ 8., 16.],\n",
              "       [ 9., 18.],\n",
              "       [10., 20.]])"
            ]
          },
          "execution_count": 49,
          "metadata": {},
          "output_type": "execute_result"
        }
      ],
      "source": [
        "array_second = np.linspace((1,2),(10,20),10)\n",
        "array_second"
      ]
    },
    {
      "cell_type": "code",
      "execution_count": null,
      "metadata": {
        "id": "xy9u96Kr5De1",
        "outputId": "c3d254cf-c167-4c91-8b6b-3612c2436978"
      },
      "outputs": [
        {
          "data": {
            "text/plain": [
              "array([[[10, 10],\n",
              "        [10, 10]],\n",
              "\n",
              "       [[10, 10],\n",
              "        [10, 10]]])"
            ]
          },
          "execution_count": 44,
          "metadata": {},
          "output_type": "execute_result"
        }
      ],
      "source": [
        "array_third = np.full((2,2,2),10)\n",
        "array_third"
      ]
    },
    {
      "cell_type": "code",
      "execution_count": null,
      "metadata": {
        "id": "MPZZCzeP5De1",
        "outputId": "31fa0bf5-5847-413d-c8da-e688134db2a5"
      },
      "outputs": [
        {
          "data": {
            "text/plain": [
              "(20,)"
            ]
          },
          "execution_count": 45,
          "metadata": {},
          "output_type": "execute_result"
        }
      ],
      "source": [
        "array_first.shape"
      ]
    },
    {
      "cell_type": "code",
      "execution_count": null,
      "metadata": {
        "id": "AlMiv2Qj5De1",
        "outputId": "e13d8690-ceaf-46e2-9c34-96319ecad2ca"
      },
      "outputs": [
        {
          "data": {
            "text/plain": [
              "(10, 2)"
            ]
          },
          "execution_count": 50,
          "metadata": {},
          "output_type": "execute_result"
        }
      ],
      "source": [
        "np.shape(array_second)"
      ]
    },
    {
      "cell_type": "code",
      "execution_count": null,
      "metadata": {
        "id": "3fMqaGTb5De5",
        "outputId": "586500b5-a91c-41de-ff34-a5aeaf5a1871"
      },
      "outputs": [
        {
          "data": {
            "text/plain": [
              "(2, 2, 2)"
            ]
          },
          "execution_count": 51,
          "metadata": {},
          "output_type": "execute_result"
        }
      ],
      "source": [
        "np.shape(array_third)"
      ]
    },
    {
      "cell_type": "code",
      "execution_count": null,
      "metadata": {
        "id": "dsfWjnXJ5De5",
        "outputId": "5fc203b1-56ae-44b7-f0db-2cbc50017ac8"
      },
      "outputs": [
        {
          "data": {
            "text/plain": [
              "20"
            ]
          },
          "execution_count": 52,
          "metadata": {},
          "output_type": "execute_result"
        }
      ],
      "source": [
        "np.size(array_first)"
      ]
    },
    {
      "cell_type": "markdown",
      "metadata": {
        "id": "A-ATOdOo5De5"
      },
      "source": [
        "# 3.Manipulate NumPy Arrays\n",
        "\n",
        "**Adding, Removing and Sorting elements"
      ]
    },
    {
      "cell_type": "code",
      "execution_count": null,
      "metadata": {
        "id": "UvgL6e9i5De6",
        "outputId": "7fdee4ea-8f0f-4b99-fb52-1f71a0397caf"
      },
      "outputs": [
        {
          "data": {
            "text/plain": [
              "array([1, 2, 3, 4, 5, 6])"
            ]
          },
          "execution_count": 20,
          "metadata": {},
          "output_type": "execute_result"
        }
      ],
      "source": [
        "array = np.array([1,2,3,4,5,6])\n",
        "array"
      ]
    },
    {
      "cell_type": "code",
      "execution_count": null,
      "metadata": {
        "id": "nJOoxVA05De6",
        "outputId": "953faa7a-c3b4-48ab-fa4b-f33b3ab0c358"
      },
      "outputs": [
        {
          "data": {
            "text/plain": [
              "array([1, 8, 2, 3, 4, 5, 6])"
            ]
          },
          "execution_count": 23,
          "metadata": {},
          "output_type": "execute_result"
        }
      ],
      "source": [
        "new_array_insert = np.insert(array,1,8) \n",
        "new_array_insert"
      ]
    },
    {
      "cell_type": "code",
      "execution_count": null,
      "metadata": {
        "id": "90aVngOW5De6",
        "outputId": "bd20f72c-42a7-429a-b34c-a851ee817a72"
      },
      "outputs": [
        {
          "data": {
            "text/plain": [
              "array([ 1,  2,  3,  4,  5,  6, 10])"
            ]
          },
          "execution_count": 25,
          "metadata": {},
          "output_type": "execute_result"
        }
      ],
      "source": [
        "new_array_append = np.append(array,10)\n",
        "new_array_append"
      ]
    },
    {
      "cell_type": "code",
      "execution_count": null,
      "metadata": {
        "id": "GDIjMBhS5De6",
        "outputId": "19d371ff-3239-4ea4-8e21-d60c31f4de08"
      },
      "outputs": [
        {
          "data": {
            "text/plain": [
              "array([1, 2, 4, 5, 6])"
            ]
          },
          "execution_count": 28,
          "metadata": {},
          "output_type": "execute_result"
        }
      ],
      "source": [
        "new_array_delete = np.delete(array,2)\n",
        "new_array_delete "
      ]
    },
    {
      "cell_type": "code",
      "execution_count": null,
      "metadata": {
        "id": "OaJGW9NC5De7",
        "outputId": "c42ccfe7-834e-4147-8359-f813545d8aac"
      },
      "outputs": [
        {
          "data": {
            "text/plain": [
              "array([9, 8, 0, 6, 7, 4, 7, 3, 8, 0, 2, 2, 7, 6, 5, 5, 9, 4, 6, 9])"
            ]
          },
          "execution_count": 29,
          "metadata": {},
          "output_type": "execute_result"
        }
      ],
      "source": [
        "array = np.random.randint(0,10,20)\n",
        "array"
      ]
    },
    {
      "cell_type": "code",
      "execution_count": null,
      "metadata": {
        "id": "ZvXOWKa45De7",
        "outputId": "c0809ce5-d597-477c-dc5c-d74e15712816"
      },
      "outputs": [
        {
          "name": "stdout",
          "output_type": "stream",
          "text": [
            "[0 0 2 2 3 4 4 5 5 6 6 6 7 7 7 8 8 9 9 9]\n"
          ]
        }
      ],
      "source": [
        "print(np.sort(array))"
      ]
    },
    {
      "cell_type": "code",
      "execution_count": null,
      "metadata": {
        "id": "5ubC2n7l5De7",
        "outputId": "02e838b8-123f-478e-e3eb-0837e405c9db"
      },
      "outputs": [
        {
          "name": "stdout",
          "output_type": "stream",
          "text": [
            "[[ 0  2  3  4  9]\n",
            " [ 4  9 10 11 16]]\n"
          ]
        }
      ],
      "source": [
        "#sort 2-dimensional array\n",
        "array = np.array([[2,9,4,3,0],[9,4,10,11,16]])\n",
        "print(np.sort(array))"
      ]
    },
    {
      "cell_type": "code",
      "execution_count": null,
      "metadata": {
        "id": "fF7TWBnH5De7"
      },
      "outputs": [],
      "source": [
        "array = np.array(['red','blues','green','orange','white','pink'])"
      ]
    },
    {
      "cell_type": "code",
      "execution_count": null,
      "metadata": {
        "id": "cXAAIM9p5De7",
        "outputId": "9e053b1a-b210-42f5-8e07-1ef922ea3639"
      },
      "outputs": [
        {
          "name": "stdout",
          "output_type": "stream",
          "text": [
            "['blues' 'green' 'orange' 'pink' 'red' 'white']\n"
          ]
        }
      ],
      "source": [
        "print(np.sort(array))"
      ]
    },
    {
      "cell_type": "markdown",
      "metadata": {
        "id": "CxPegA2c5De8"
      },
      "source": [
        "**Copies and views of array"
      ]
    },
    {
      "cell_type": "code",
      "execution_count": null,
      "metadata": {
        "id": "zoFBIq0f5De8",
        "outputId": "a42756b6-1513-4ef5-9174-ff428594a9cb"
      },
      "outputs": [
        {
          "data": {
            "text/plain": [
              "array([111, 112, 113, 222, 333])"
            ]
          },
          "execution_count": 37,
          "metadata": {},
          "output_type": "execute_result"
        }
      ],
      "source": [
        "emp_id = np.array([111,112,113,222,333])\n",
        "emp_id"
      ]
    },
    {
      "cell_type": "code",
      "execution_count": null,
      "metadata": {
        "id": "rtqLt1i_5De8",
        "outputId": "2ac619b1-ebc1-4202-efde-4dde20cc4f08"
      },
      "outputs": [
        {
          "name": "stdout",
          "output_type": "stream",
          "text": [
            "id of employee 140299740095632\n",
            "id of emp_id_reg 140299740095632\n"
          ]
        }
      ],
      "source": [
        "emp_id_reg = emp_id\n",
        "print(\"id of employee\", id(emp_id))\n",
        "print(\"id of emp_id_reg\", id(emp_id_reg))"
      ]
    },
    {
      "cell_type": "code",
      "execution_count": null,
      "metadata": {
        "id": "3kHK5Ssm5De8",
        "outputId": "5e487e57-0129-44f9-c248-67c4bf46a7a4"
      },
      "outputs": [
        {
          "name": "stdout",
          "output_type": "stream",
          "text": [
            "[111 333 113 222 333]\n",
            "[111 333 113 222 333]\n"
          ]
        }
      ],
      "source": [
        "emp_id_reg[1]=333\n",
        "print(emp_id )\n",
        "print(emp_id_reg)"
      ]
    },
    {
      "cell_type": "code",
      "execution_count": null,
      "metadata": {
        "id": "z0SI2_cg5De8"
      },
      "outputs": [],
      "source": [
        "emp_id_cp = emp_id.copy()"
      ]
    },
    {
      "cell_type": "code",
      "execution_count": null,
      "metadata": {
        "id": "qPdGHNHY5De8",
        "outputId": "c96eeb6d-d2e5-48c6-8a55-86c5780ea7bc"
      },
      "outputs": [
        {
          "name": "stdout",
          "output_type": "stream",
          "text": [
            "[111 333 113 222 333]\n"
          ]
        }
      ],
      "source": [
        "print(emp_id_cp)"
      ]
    },
    {
      "cell_type": "code",
      "execution_count": null,
      "metadata": {
        "id": "OiL7U0ms5De9",
        "outputId": "863a291c-432b-4055-885d-18e068bebe41"
      },
      "outputs": [
        {
          "name": "stdout",
          "output_type": "stream",
          "text": [
            "original: [2112  333  113  222  333]\n",
            "copy: [111 333 113 222 333]\n"
          ]
        }
      ],
      "source": [
        "emp_id[0]=2112\n",
        "print('original:', emp_id)\n",
        "print('copy:', emp_id_cp)"
      ]
    },
    {
      "cell_type": "markdown",
      "metadata": {
        "id": "SKeAx-4x5De9"
      },
      "source": [
        "**Reshaping Arrays"
      ]
    },
    {
      "cell_type": "code",
      "execution_count": null,
      "metadata": {
        "id": "x5o1Et1P5De9",
        "outputId": "d7aadde2-2b10-412c-b353-0b03d4543469"
      },
      "outputs": [
        {
          "data": {
            "text/plain": [
              "array([ 1,  2,  3,  4,  5,  6,  7,  8,  9, 10, 11, 12])"
            ]
          },
          "execution_count": 48,
          "metadata": {},
          "output_type": "execute_result"
        }
      ],
      "source": [
        "array = np.arange(1,13)\n",
        "array"
      ]
    },
    {
      "cell_type": "code",
      "execution_count": null,
      "metadata": {
        "id": "CKdAVIVp5De9",
        "outputId": "d081bfac-1f0d-4d0a-e986-3c6f15823c5e"
      },
      "outputs": [
        {
          "data": {
            "text/plain": [
              "array([[ 1,  2,  3,  4],\n",
              "       [ 5,  6,  7,  8],\n",
              "       [ 9, 10, 11, 12]])"
            ]
          },
          "execution_count": 49,
          "metadata": {},
          "output_type": "execute_result"
        }
      ],
      "source": [
        "reshape_array = np.reshape(array,(3,4))\n",
        "reshape_array"
      ]
    },
    {
      "cell_type": "code",
      "execution_count": null,
      "metadata": {
        "id": "r13x17wK5De-",
        "outputId": "8eccd54c-e60f-4d06-8351-01d6158f1282"
      },
      "outputs": [
        {
          "data": {
            "text/plain": [
              "array([[ 1,  2],\n",
              "       [ 3,  4],\n",
              "       [ 5,  6],\n",
              "       [ 7,  8],\n",
              "       [ 9, 10],\n",
              "       [11, 12]])"
            ]
          },
          "execution_count": 50,
          "metadata": {},
          "output_type": "execute_result"
        }
      ],
      "source": [
        "reshape_array = np.reshape(array,(6,2))\n",
        "reshape_array"
      ]
    },
    {
      "cell_type": "code",
      "execution_count": null,
      "metadata": {
        "id": "oirRbko_5De-"
      },
      "outputs": [],
      "source": [
        "reshape_array = np.reshape(array,(4,5))\n",
        "reshape_array   #cannot reshape array of size 12 into shape (4,5)"
      ]
    },
    {
      "cell_type": "code",
      "execution_count": null,
      "metadata": {
        "id": "wGosjhAR5De-",
        "outputId": "7da4faef-90f7-4b45-8ed0-bf26301ebc68"
      },
      "outputs": [
        {
          "name": "stdout",
          "output_type": "stream",
          "text": [
            "[[[ 1  2]\n",
            "  [ 3  4]]\n",
            "\n",
            " [[ 5  6]\n",
            "  [ 7  8]]\n",
            "\n",
            " [[ 9 10]\n",
            "  [11 12]]]\n",
            "Dimensions of array: 3\n"
          ]
        }
      ],
      "source": [
        "reshape_array = np.reshape(array,(3,2,2))\n",
        "print(reshape_array)\n",
        "print(\"Dimensions of array:\", reshape_array.ndim)"
      ]
    },
    {
      "cell_type": "code",
      "execution_count": null,
      "metadata": {
        "id": "D4B9zHFj5De-",
        "outputId": "abd5b2ef-3902-42e5-c3d4-8cda6844a59f"
      },
      "outputs": [
        {
          "data": {
            "text/plain": [
              "array([[1, 2],\n",
              "       [2, 3],\n",
              "       [4, 5],\n",
              "       [5, 6]])"
            ]
          },
          "execution_count": 56,
          "metadata": {},
          "output_type": "execute_result"
        }
      ],
      "source": [
        "reshape_array = np.array([[1,2],[2,3],[4,5],[5,6]])\n",
        "reshape_array "
      ]
    },
    {
      "cell_type": "code",
      "execution_count": null,
      "metadata": {
        "id": "WcmrOkyU5De-",
        "outputId": "2d78da7d-98fb-452b-a8d4-4d200f0f8905"
      },
      "outputs": [
        {
          "data": {
            "text/plain": [
              "array([ 1,  2,  3,  4,  5,  6,  7,  8,  9, 10, 11, 12])"
            ]
          },
          "execution_count": 57,
          "metadata": {},
          "output_type": "execute_result"
        }
      ],
      "source": [
        "reshape_array = np.reshape(array,-1)\n",
        "reshape_array "
      ]
    },
    {
      "cell_type": "markdown",
      "metadata": {
        "id": "QpSmLMtL5De-"
      },
      "source": [
        "**Array Flat and rav fucntion.(see NumPy doc)"
      ]
    },
    {
      "cell_type": "markdown",
      "metadata": {
        "id": "MT_RWa1W5De-"
      },
      "source": [
        "**Indexing and Slicing"
      ]
    },
    {
      "cell_type": "code",
      "execution_count": null,
      "metadata": {
        "id": "csFCLfqt5De-",
        "outputId": "aa0e0066-e7f3-4a7e-961c-af76477f85ed"
      },
      "outputs": [
        {
          "data": {
            "text/plain": [
              "array([[ 0,  1,  2,  3],\n",
              "       [ 4,  5,  6,  7],\n",
              "       [ 8,  9, 10, 11]])"
            ]
          },
          "execution_count": 58,
          "metadata": {},
          "output_type": "execute_result"
        }
      ],
      "source": [
        "array = np.reshape(np.arange(12),(3,4))\n",
        "array"
      ]
    },
    {
      "cell_type": "code",
      "execution_count": null,
      "metadata": {
        "id": "Hdpr10PN5De_",
        "outputId": "d3ed3266-fd4a-4af7-f742-0fe7abf8f269"
      },
      "outputs": [
        {
          "data": {
            "text/plain": [
              "5"
            ]
          },
          "execution_count": 59,
          "metadata": {},
          "output_type": "execute_result"
        }
      ],
      "source": [
        "array[1][1]"
      ]
    },
    {
      "cell_type": "code",
      "execution_count": null,
      "metadata": {
        "id": "1_DKkvEm5De_",
        "outputId": "72d4da67-a88b-493a-bd59-214ddaf9c297"
      },
      "outputs": [
        {
          "data": {
            "text/plain": [
              "array([4, 5, 6, 7])"
            ]
          },
          "execution_count": 60,
          "metadata": {},
          "output_type": "execute_result"
        }
      ],
      "source": [
        "array[1]"
      ]
    },
    {
      "cell_type": "code",
      "execution_count": null,
      "metadata": {
        "id": "FH72F5Xj5De_",
        "outputId": "75c477d1-23bf-4a25-8874-be00570c5e51"
      },
      "outputs": [
        {
          "data": {
            "text/plain": [
              "array([[[ 0,  1,  2,  3,  4],\n",
              "        [ 5,  6,  7,  8,  9],\n",
              "        [10, 11, 12, 13, 14],\n",
              "        [15, 16, 17, 18, 19]],\n",
              "\n",
              "       [[20, 21, 22, 23, 24],\n",
              "        [25, 26, 27, 28, 29],\n",
              "        [30, 31, 32, 33, 34],\n",
              "        [35, 36, 37, 38, 39]],\n",
              "\n",
              "       [[40, 41, 42, 43, 44],\n",
              "        [45, 46, 47, 48, 49],\n",
              "        [50, 51, 52, 53, 54],\n",
              "        [55, 56, 57, 58, 59]]])"
            ]
          },
          "execution_count": 61,
          "metadata": {},
          "output_type": "execute_result"
        }
      ],
      "source": [
        "array = np.reshape(np.arange(3*4*5),(3,4,5))\n",
        "array"
      ]
    },
    {
      "cell_type": "code",
      "execution_count": null,
      "metadata": {
        "id": "oa6dSo9-5De_",
        "outputId": "e989c97e-431c-4ad4-cf65-06c072358c74"
      },
      "outputs": [
        {
          "data": {
            "text/plain": [
              "7"
            ]
          },
          "execution_count": 63,
          "metadata": {},
          "output_type": "execute_result"
        }
      ],
      "source": [
        "array[0,1,2]"
      ]
    },
    {
      "cell_type": "code",
      "execution_count": null,
      "metadata": {
        "id": "VmhnC6HA5DfA",
        "outputId": "7a6e9425-352e-4418-a53c-72e16bed4de7"
      },
      "outputs": [
        {
          "data": {
            "text/plain": [
              "59"
            ]
          },
          "execution_count": 64,
          "metadata": {},
          "output_type": "execute_result"
        }
      ],
      "source": [
        "array[2,-1,-1]"
      ]
    },
    {
      "cell_type": "code",
      "execution_count": null,
      "metadata": {
        "id": "zxqB1ff05DfA",
        "outputId": "28084c30-62ef-4df6-e6d9-cf4adb4bf281"
      },
      "outputs": [
        {
          "data": {
            "text/plain": [
              "array([0, 1, 2, 3, 4, 5, 6, 7, 8, 9])"
            ]
          },
          "execution_count": 65,
          "metadata": {},
          "output_type": "execute_result"
        }
      ],
      "source": [
        "array = np.arange(10)\n",
        "array"
      ]
    },
    {
      "cell_type": "code",
      "execution_count": null,
      "metadata": {
        "id": "mbG-oRk85DfA",
        "outputId": "9780f9bf-8949-4d42-bec1-68810ccd5476"
      },
      "outputs": [
        {
          "data": {
            "text/plain": [
              "array([3, 4, 5])"
            ]
          },
          "execution_count": 66,
          "metadata": {},
          "output_type": "execute_result"
        }
      ],
      "source": [
        "array[3:6]"
      ]
    },
    {
      "cell_type": "code",
      "execution_count": null,
      "metadata": {
        "id": "cU69znRW5DfB",
        "outputId": "5dc2658a-1aa4-4704-863f-ca82148dac51"
      },
      "outputs": [
        {
          "data": {
            "text/plain": [
              "array([0, 1, 2, 3, 4])"
            ]
          },
          "execution_count": 67,
          "metadata": {},
          "output_type": "execute_result"
        }
      ],
      "source": [
        "array[:5]"
      ]
    },
    {
      "cell_type": "code",
      "execution_count": null,
      "metadata": {
        "id": "ncq06I8T5DfB",
        "outputId": "7202b4e1-884f-4212-8ecb-65f9a3afb47b"
      },
      "outputs": [
        {
          "data": {
            "text/plain": [
              "array([7, 8, 9])"
            ]
          },
          "execution_count": 68,
          "metadata": {},
          "output_type": "execute_result"
        }
      ],
      "source": [
        "array[-3:]"
      ]
    },
    {
      "cell_type": "code",
      "execution_count": null,
      "metadata": {
        "id": "uuDaYQDY5DfB",
        "outputId": "e6944a19-aa39-4d8f-c4f9-b85b18ae6d2c"
      },
      "outputs": [
        {
          "data": {
            "text/plain": [
              "array([0, 2, 4, 6, 8])"
            ]
          },
          "execution_count": 69,
          "metadata": {},
          "output_type": "execute_result"
        }
      ],
      "source": [
        "array[::2]"
      ]
    },
    {
      "cell_type": "markdown",
      "metadata": {
        "id": "vdYp046H5DfB"
      },
      "source": [
        "**Joining and Splitting Arrays\n",
        "1.concatenate\n",
        "2.stack\n",
        "3.hstack\n",
        "4.vstack\n",
        "_____________________________\n",
        "Splitting Array \n",
        "one major draw back , It will split arrays only when the number of elements is divisible by the number of splits. so the resulting arrays needs to have the same shape.\n",
        "1.split\n",
        "2.array_split\n",
        "3.hsplit\n",
        "4vsplit\n"
      ]
    },
    {
      "cell_type": "code",
      "execution_count": null,
      "metadata": {
        "id": "tYXLp4Ds5DfC",
        "outputId": "7012970b-bb67-4063-e4cf-deb160ff1200"
      },
      "outputs": [
        {
          "name": "stdout",
          "output_type": "stream",
          "text": [
            "Array: [1 2 3 4 5 6 7 8 9]\n",
            "Array1: [11 12 13 14 15 16 17 18 19]\n"
          ]
        }
      ],
      "source": [
        "array = np.arange(1,10)\n",
        "array1 = np.arange(11,20)\n",
        "print('Array:',array)\n",
        "print('Array1:',array1)"
      ]
    },
    {
      "cell_type": "code",
      "execution_count": null,
      "metadata": {
        "id": "1ckNdQWF5DfC",
        "outputId": "fab77307-caac-44da-d92a-3526730abd55"
      },
      "outputs": [
        {
          "data": {
            "text/plain": [
              "array([ 1,  2,  3,  4,  5,  6,  7,  8,  9, 11, 12, 13, 14, 15, 16, 17, 18,\n",
              "       19])"
            ]
          },
          "execution_count": 6,
          "metadata": {},
          "output_type": "execute_result"
        }
      ],
      "source": [
        "con_arr=np.concatenate((array,array1))\n",
        "con_arr"
      ]
    },
    {
      "cell_type": "code",
      "execution_count": null,
      "metadata": {
        "id": "uCUSM-lq5DfC",
        "outputId": "834d7bf1-7a00-43c2-ff7b-714936191087"
      },
      "outputs": [
        {
          "name": "stdout",
          "output_type": "stream",
          "text": [
            "[[ 1  2  3  4  5]\n",
            " [16 17 18 19 20]]\n",
            "[[ 1  2  6  7  8]\n",
            " [12 13 14 15 20]]\n"
          ]
        }
      ],
      "source": [
        "array1 = np.array([[1,2,6,7,8],[12,13,14,15,20]])\n",
        "array = np.array([[1,2,3,4,5],[16,17,18,19,20]])\n",
        "print(array)\n",
        "print(array1)"
      ]
    },
    {
      "cell_type": "code",
      "execution_count": null,
      "metadata": {
        "id": "PUaWP2rp5DfC",
        "outputId": "1c4035be-9e2f-4cd7-a535-808af603bcbe"
      },
      "outputs": [
        {
          "data": {
            "text/plain": [
              "array([[ 1,  2,  6,  7,  8,  1,  2,  3,  4,  5],\n",
              "       [12, 13, 14, 15, 20, 16, 17, 18, 19, 20]])"
            ]
          },
          "execution_count": 15,
          "metadata": {},
          "output_type": "execute_result"
        }
      ],
      "source": [
        "con_array = np.concatenate((array1,array), axis=1)\n",
        "con_array"
      ]
    },
    {
      "cell_type": "code",
      "execution_count": null,
      "metadata": {
        "id": "92InmJmU5DfC",
        "outputId": "6f7d6eb7-8c03-48d6-dfe4-857664d96c11"
      },
      "outputs": [
        {
          "data": {
            "text/plain": [
              "array([[[ 1,  2,  6,  7,  8],\n",
              "        [12, 13, 14, 15, 20]],\n",
              "\n",
              "       [[ 1,  2,  3,  4,  5],\n",
              "        [16, 17, 18, 19, 20]]])"
            ]
          },
          "execution_count": 17,
          "metadata": {},
          "output_type": "execute_result"
        }
      ],
      "source": [
        "array1 = np.array([[1,2,6,7,8],[12,13,14,15,20]])\n",
        "array = np.array([[1,2,3,4,5],[16,17,18,19,20]])\n",
        "str_arr = np.stack((array1,array))\n",
        "str_arr"
      ]
    },
    {
      "cell_type": "code",
      "execution_count": null,
      "metadata": {
        "id": "ZRET0dHk5DfC",
        "outputId": "aa432316-3fa7-4df1-c4c6-0ea7a7869c39"
      },
      "outputs": [
        {
          "data": {
            "text/plain": [
              "array([[11, 12, 13, 14, 15, 16, 17, 18, 19],\n",
              "       [ 1,  2,  3,  4,  5,  6,  7,  8,  9]])"
            ]
          },
          "execution_count": 18,
          "metadata": {},
          "output_type": "execute_result"
        }
      ],
      "source": [
        "array = np.arange(1,10)\n",
        "array1 = np.arange(11,20)\n",
        "str_arr = np.stack((array1,array))\n",
        "str_arr"
      ]
    },
    {
      "cell_type": "code",
      "execution_count": null,
      "metadata": {
        "id": "6t6jYB0J5DfC",
        "outputId": "2a02f3f0-6c35-47ba-c40a-1c466d000d2a"
      },
      "outputs": [
        {
          "data": {
            "text/plain": [
              "array([[ 1,  2,  6,  7,  8],\n",
              "       [12, 13, 14, 15, 20],\n",
              "       [ 1,  2,  3,  4,  5],\n",
              "       [16, 17, 18, 19, 20]])"
            ]
          },
          "execution_count": 19,
          "metadata": {},
          "output_type": "execute_result"
        }
      ],
      "source": [
        "array1 = np.array([[1,2,6,7,8],[12,13,14,15,20]])\n",
        "array = np.array([[1,2,3,4,5],[16,17,18,19,20]])\n",
        "str_arr = np.vstack((array1,array))\n",
        "str_arr"
      ]
    },
    {
      "cell_type": "code",
      "execution_count": null,
      "metadata": {
        "id": "JnxAb74V5DfD",
        "outputId": "f0bbffc2-4485-4f76-96cb-bebb67de7b69"
      },
      "outputs": [
        {
          "data": {
            "text/plain": [
              "array([[11, 12, 13, 14, 15, 16, 17, 18, 19],\n",
              "       [ 1,  2,  3,  4,  5,  6,  7,  8,  9]])"
            ]
          },
          "execution_count": 20,
          "metadata": {},
          "output_type": "execute_result"
        }
      ],
      "source": [
        "array = np.arange(1,10)\n",
        "array1 = np.arange(11,20)\n",
        "str_arr = np.vstack((array1,array))\n",
        "str_arr"
      ]
    },
    {
      "cell_type": "code",
      "execution_count": null,
      "metadata": {
        "id": "kNWQRH2L5DfD",
        "outputId": "a889de1f-dcc1-450a-eb71-aa40ac421310"
      },
      "outputs": [
        {
          "data": {
            "text/plain": [
              "[array([1, 2, 3]), array([4, 5, 6]), array([7, 8, 9]), array([10, 11, 12])]"
            ]
          },
          "execution_count": 21,
          "metadata": {},
          "output_type": "execute_result"
        }
      ],
      "source": [
        "array = np.arange(1,13)\n",
        "sp_array = np.array_split(array,4)\n",
        "sp_array"
      ]
    },
    {
      "cell_type": "code",
      "execution_count": null,
      "metadata": {
        "id": "sAB723xX5DfD",
        "outputId": "5712f72a-c175-44d2-ab91-8fcf31a22034"
      },
      "outputs": [
        {
          "name": "stdout",
          "output_type": "stream",
          "text": [
            "[4 5 6]\n"
          ]
        }
      ],
      "source": [
        "print(sp_array[1])"
      ]
    },
    {
      "cell_type": "code",
      "execution_count": null,
      "metadata": {
        "id": "JLPu9Bqx5DfD",
        "outputId": "0196a98f-52d4-4987-94c3-6752f2d80cca"
      },
      "outputs": [
        {
          "data": {
            "text/plain": [
              "[array([1, 2]),\n",
              " array([3, 4]),\n",
              " array([5, 6]),\n",
              " array([7, 8]),\n",
              " array([9]),\n",
              " array([10]),\n",
              " array([11]),\n",
              " array([12])]"
            ]
          },
          "execution_count": 23,
          "metadata": {},
          "output_type": "execute_result"
        }
      ],
      "source": [
        "array = np.arange(1,13)\n",
        "sp_array = np.array_split(array,8)\n",
        "sp_array"
      ]
    },
    {
      "cell_type": "code",
      "execution_count": null,
      "metadata": {
        "id": "i0aEBeoM5DfD",
        "outputId": "04364336-601b-4fb0-8181-54cc93c6bc4c"
      },
      "outputs": [
        {
          "data": {
            "text/plain": [
              "[array([[1],\n",
              "        [3]]),\n",
              " array([[2],\n",
              "        [5]]),\n",
              " array([[3],\n",
              "        [6]]),\n",
              " array([[4],\n",
              "        [7]]),\n",
              " array([[5],\n",
              "        [8]])]"
            ]
          },
          "execution_count": 29,
          "metadata": {},
          "output_type": "execute_result"
        }
      ],
      "source": [
        "array = np.array([[1,2,3,4,5],[3,5,6,7,8,]])\n",
        "hs_array = np.hsplit(array,5)\n",
        "hs_array"
      ]
    },
    {
      "cell_type": "code",
      "execution_count": null,
      "metadata": {
        "id": "kUOinQro5DfE",
        "outputId": "6796af13-0162-47c7-c63a-5be3c12c37a4"
      },
      "outputs": [
        {
          "data": {
            "text/plain": [
              "[array([[1, 2, 3, 4, 5]]), array([[3, 5, 6, 7, 8]])]"
            ]
          },
          "execution_count": 30,
          "metadata": {},
          "output_type": "execute_result"
        }
      ],
      "source": [
        "array = np.array([[1,2,3,4,5],[3,5,6,7,8,]])\n",
        "vs_array = np.vsplit(array,2)\n",
        "vs_array"
      ]
    },
    {
      "cell_type": "code",
      "execution_count": null,
      "metadata": {
        "id": "tHmrIli95DfE",
        "outputId": "47a02fe6-2c86-4f9e-b18e-f926d3a7837f"
      },
      "outputs": [
        {
          "data": {
            "text/plain": [
              "array([ 2,  4,  6,  8, 10,  1,  3,  5,  7,  9])"
            ]
          },
          "execution_count": 31,
          "metadata": {},
          "output_type": "execute_result"
        }
      ],
      "source": [
        "import numpy as np\n",
        "\n",
        "arr1 = np.array([2,4,6,8,10])\n",
        "arr2 = np.array([1,3,5,7,9])\n",
        "\n",
        "arr3 = np.concatenate((arr1, arr2), axis=0)\n",
        "arr3"
      ]
    },
    {
      "cell_type": "markdown",
      "metadata": {
        "id": "OxZ3XwU55DfE"
      },
      "source": [
        "## Function and Operations"
      ]
    },
    {
      "cell_type": "markdown",
      "metadata": {
        "id": "M8_H7xxB5DfE"
      },
      "source": [
        "**Arthmetic Operations and Functions\n",
        "\n",
        "*Addition       * Division\n",
        "*Subtraction    * Exponentiation \n",
        "*Multiplication * Specific functions to perform them \n",
        "\n",
        "Vectorization -> Operation can be executed in parallel on multiple elements of the array.\n",
        "               \n",
        "               Benifits\n",
        "*Higher performance code\n",
        "*Less verbose code\n",
        "*Better maintainability\n",
        "\n"
      ]
    },
    {
      "cell_type": "code",
      "execution_count": null,
      "metadata": {
        "id": "gooJP1XY5DfE",
        "outputId": "75374bef-41d2-4ab5-81e2-c684a5982ad4"
      },
      "outputs": [
        {
          "name": "stdout",
          "output_type": "stream",
          "text": [
            "arr_three_add:\n",
            " [42 44 46 48 50 52 54 56 58 60]\n",
            "arr_three_sub:\n",
            " [-40 -40 -40 -40 -40 -40 -40 -40 -40 -40]\n",
            "arr_three_div:\n",
            " [0.02439024 0.04761905 0.06976744 0.09090909 0.11111111 0.13043478\n",
            " 0.14893617 0.16666667 0.18367347 0.2       ]\n",
            "arr_three_mul:\n",
            " [ 41  84 129 176 225 276 329 384 441 500]\n"
          ]
        }
      ],
      "source": [
        "arr_one = np.arange(1,11)\n",
        "arr_two = np.arange(41,51)\n",
        "print(\"arr_three_add:\\n\", arr_one + arr_two)\n",
        "print(\"arr_three_sub:\\n\", arr_one - arr_two)\n",
        "print(\"arr_three_div:\\n\", arr_one / arr_two)\n",
        "print(\"arr_three_mul:\\n\", arr_one *arr_two)"
      ]
    },
    {
      "cell_type": "code",
      "execution_count": null,
      "metadata": {
        "id": "ehF6HAk85DfF",
        "outputId": "55bf3ab1-5a58-407d-ced9-194b9dca9190"
      },
      "outputs": [
        {
          "name": "stdout",
          "output_type": "stream",
          "text": [
            "[           1            8           81         1024        15625\n",
            "       279936      5764801    134217728   3486784401 100000000000]\n"
          ]
        }
      ],
      "source": [
        "arr_three = np.arange(2,12)\n",
        "print(arr_one**arr_three)"
      ]
    },
    {
      "cell_type": "code",
      "execution_count": null,
      "metadata": {
        "id": "J48QWOZw5DfF",
        "outputId": "13ab150f-671b-4129-a078-fd88ec43d2ac"
      },
      "outputs": [
        {
          "data": {
            "text/plain": [
              "array([ 2,  4,  6,  8, 10, 12, 14, 16, 18, 20])"
            ]
          },
          "execution_count": 16,
          "metadata": {},
          "output_type": "execute_result"
        }
      ],
      "source": [
        "arr_one*2"
      ]
    },
    {
      "cell_type": "code",
      "execution_count": null,
      "metadata": {
        "id": "TC4SwUsC5DfF",
        "outputId": "2a869929-4508-4ca4-af58-1757561f0cfe"
      },
      "outputs": [
        {
          "data": {
            "text/plain": [
              "array([42, 44, 46, 48, 50, 52, 54, 56, 58, 60])"
            ]
          },
          "execution_count": 17,
          "metadata": {},
          "output_type": "execute_result"
        }
      ],
      "source": [
        "np.add(arr_one,arr_two)"
      ]
    },
    {
      "cell_type": "code",
      "execution_count": null,
      "metadata": {
        "id": "HPwZcvbx5DfF",
        "outputId": "8bac0b83-700d-4032-eb0f-b546781783d9"
      },
      "outputs": [
        {
          "data": {
            "text/plain": [
              "array([1, 1, 1, 1, 1, 1, 1, 1, 1, 1])"
            ]
          },
          "execution_count": 18,
          "metadata": {},
          "output_type": "execute_result"
        }
      ],
      "source": [
        "np.subtract(arr_three,arr_one)"
      ]
    },
    {
      "cell_type": "code",
      "execution_count": null,
      "metadata": {
        "id": "zyiUCWSM5DfG",
        "outputId": "b0fa1f05-2019-4a4b-8bc4-208739aaa208"
      },
      "outputs": [
        {
          "data": {
            "text/plain": [
              "array([ 41,  84, 129, 176, 225, 276, 329, 384, 441, 500])"
            ]
          },
          "execution_count": 19,
          "metadata": {},
          "output_type": "execute_result"
        }
      ],
      "source": [
        "np.multiply(arr_one,arr_two)"
      ]
    },
    {
      "cell_type": "code",
      "execution_count": null,
      "metadata": {
        "id": "wyccf4pg5DfG",
        "outputId": "30e7e3b5-3f02-4687-9cba-c1f15a37450d"
      },
      "outputs": [
        {
          "data": {
            "text/plain": [
              "array([0, 0, 1, 0, 0, 4, 5, 0, 4, 0])"
            ]
          },
          "execution_count": 20,
          "metadata": {},
          "output_type": "execute_result"
        }
      ],
      "source": [
        "np.mod(arr_two,arr_one)"
      ]
    },
    {
      "cell_type": "code",
      "execution_count": null,
      "metadata": {
        "id": "7RP-Wfm-5DfG",
        "outputId": "9b5de0b5-9667-4a50-ce8e-46720ea2aca9"
      },
      "outputs": [
        {
          "data": {
            "text/plain": [
              "array([           1,            8,           81,         1024,\n",
              "              15625,       279936,      5764801,    134217728,\n",
              "         3486784401, 100000000000])"
            ]
          },
          "execution_count": 21,
          "metadata": {},
          "output_type": "execute_result"
        }
      ],
      "source": [
        "np.power(arr_one,arr_three)"
      ]
    },
    {
      "cell_type": "code",
      "execution_count": null,
      "metadata": {
        "id": "TYXv20Qz5DfG",
        "outputId": "b341846c-cad6-4420-9fc3-e751ec02665c"
      },
      "outputs": [
        {
          "data": {
            "text/plain": [
              "array([1.        , 1.41421356, 1.73205081, 2.        , 2.23606798,\n",
              "       2.44948974, 2.64575131, 2.82842712, 3.        , 3.16227766])"
            ]
          },
          "execution_count": 22,
          "metadata": {},
          "output_type": "execute_result"
        }
      ],
      "source": [
        "np.sqrt(arr_one)"
      ]
    },
    {
      "cell_type": "markdown",
      "metadata": {
        "id": "5JROZWR95DfG"
      },
      "source": [
        "**Broadcasting\n",
        "\n",
        "*The term broadcasting describes how NumPy treats arrays with different shapes during arithmetic operations.\n",
        "\n",
        "*Subject to certain constraints, the smaller array is broadcast across the larger array so that they have compatible shapes.\n",
        "\n",
        "\n",
        "   Dimesion are Compatible\n",
        "__________________________________\n",
        "\n",
        "If their axes on a one-by-one basis, they have either the same length or length of one.\n"
      ]
    },
    {
      "cell_type": "code",
      "execution_count": null,
      "metadata": {
        "id": "I8jGtHQB5DfG",
        "outputId": "5ef1f787-68c0-4035-8c4b-91ffa20b343b"
      },
      "outputs": [
        {
          "data": {
            "text/plain": [
              "array([[1, 2, 3],\n",
              "       [4, 5, 6],\n",
              "       [7, 8, 9]])"
            ]
          },
          "execution_count": 18,
          "metadata": {},
          "output_type": "execute_result"
        }
      ],
      "source": [
        "arr1 = np.arange(1,10).reshape(3,3)\n",
        "arr1"
      ]
    },
    {
      "cell_type": "code",
      "execution_count": null,
      "metadata": {
        "id": "Os2JqKqY5DfG",
        "outputId": "099c293e-cee8-47f7-d100-85ba80cf1847"
      },
      "outputs": [
        {
          "data": {
            "text/plain": [
              "array([1, 2, 3])"
            ]
          },
          "execution_count": 19,
          "metadata": {},
          "output_type": "execute_result"
        }
      ],
      "source": [
        "arr2 = np.arange(1,4)\n",
        "arr2"
      ]
    },
    {
      "cell_type": "code",
      "execution_count": null,
      "metadata": {
        "id": "R3g6BtYy5DfG",
        "outputId": "b32d908f-c887-40ea-e602-1b9a6f83c5c5"
      },
      "outputs": [
        {
          "data": {
            "text/plain": [
              "array([[ 2,  4,  6],\n",
              "       [ 5,  7,  9],\n",
              "       [ 8, 10, 12]])"
            ]
          },
          "execution_count": 20,
          "metadata": {},
          "output_type": "execute_result"
        }
      ],
      "source": [
        "arr1 + arr2"
      ]
    },
    {
      "cell_type": "code",
      "execution_count": null,
      "metadata": {
        "id": "4PbamCBK5DfG"
      },
      "outputs": [],
      "source": [
        "arr = np.arange(24).reshape(2,3,4)\n",
        "arr1 = np.arange(4)"
      ]
    },
    {
      "cell_type": "code",
      "execution_count": null,
      "metadata": {
        "id": "M_oTZCPC5DfH",
        "outputId": "4aece457-83d0-4083-fde5-02123caee717"
      },
      "outputs": [
        {
          "data": {
            "text/plain": [
              "array([[[ 0,  1,  2,  3],\n",
              "        [ 4,  5,  6,  7],\n",
              "        [ 8,  9, 10, 11]],\n",
              "\n",
              "       [[12, 13, 14, 15],\n",
              "        [16, 17, 18, 19],\n",
              "        [20, 21, 22, 23]]])"
            ]
          },
          "execution_count": 22,
          "metadata": {},
          "output_type": "execute_result"
        }
      ],
      "source": [
        "arr"
      ]
    },
    {
      "cell_type": "code",
      "execution_count": null,
      "metadata": {
        "id": "Hka6J5FK5DfH",
        "outputId": "e9e914cf-fdc4-4dd4-d377-f3c7321d29c9"
      },
      "outputs": [
        {
          "data": {
            "text/plain": [
              "array([[[ 0,  0,  0,  0],\n",
              "        [ 4,  4,  4,  4],\n",
              "        [ 8,  8,  8,  8]],\n",
              "\n",
              "       [[12, 12, 12, 12],\n",
              "        [16, 16, 16, 16],\n",
              "        [20, 20, 20, 20]]])"
            ]
          },
          "execution_count": 23,
          "metadata": {},
          "output_type": "execute_result"
        }
      ],
      "source": [
        "arr-arr1"
      ]
    },
    {
      "cell_type": "markdown",
      "metadata": {
        "id": "ZeSLPQ7y5DfH"
      },
      "source": [
        "**Aggregae Functions"
      ]
    },
    {
      "cell_type": "code",
      "execution_count": null,
      "metadata": {
        "id": "izkiqS8V5DfH"
      },
      "outputs": [],
      "source": [
        "array = np.arange(10,100,10)\n"
      ]
    },
    {
      "cell_type": "code",
      "execution_count": null,
      "metadata": {
        "id": "2KQUA4xM5DfH",
        "outputId": "007c5da8-e0b7-4f1a-df3c-d6f373008759"
      },
      "outputs": [
        {
          "name": "stdout",
          "output_type": "stream",
          "text": [
            "sum of array: 450\n"
          ]
        }
      ],
      "source": [
        "print(\"sum of array:\" ,array.sum())"
      ]
    },
    {
      "cell_type": "code",
      "execution_count": null,
      "metadata": {
        "id": "6P9tPJnh5DfH"
      },
      "outputs": [],
      "source": [
        "array1 = np.arange(10,110,10).reshape(2,5)"
      ]
    },
    {
      "cell_type": "code",
      "execution_count": null,
      "metadata": {
        "id": "c6_eHcAW5DfI",
        "outputId": "5e388824-17ad-4df9-cf06-81bc2758b6c2"
      },
      "outputs": [
        {
          "name": "stdout",
          "output_type": "stream",
          "text": [
            "sum of array1: 550\n"
          ]
        }
      ],
      "source": [
        "print(\"sum of array1:\",array1.sum())"
      ]
    },
    {
      "cell_type": "code",
      "execution_count": null,
      "metadata": {
        "id": "dJw9LjWs5DfI",
        "outputId": "13ec7fe9-8cc0-4db6-ab68-0a0d89ce27c0"
      },
      "outputs": [
        {
          "data": {
            "text/plain": [
              "450"
            ]
          },
          "execution_count": 43,
          "metadata": {},
          "output_type": "execute_result"
        }
      ],
      "source": [
        "array.sum(axis=0)"
      ]
    },
    {
      "cell_type": "code",
      "execution_count": null,
      "metadata": {
        "id": "K2exuTpN5DfI",
        "outputId": "6cdb973c-4b58-4f68-cdef-0692875b55e2"
      },
      "outputs": [
        {
          "data": {
            "text/plain": [
              "array([150, 400])"
            ]
          },
          "execution_count": 45,
          "metadata": {},
          "output_type": "execute_result"
        }
      ],
      "source": [
        "array1.sum(axis=1)"
      ]
    },
    {
      "cell_type": "code",
      "execution_count": null,
      "metadata": {
        "id": "zeEPvGGx5DfJ",
        "outputId": "594c58cf-29c2-4e03-d7f5-cbe80496b78b"
      },
      "outputs": [
        {
          "data": {
            "text/plain": [
              "362880000000000"
            ]
          },
          "execution_count": 46,
          "metadata": {},
          "output_type": "execute_result"
        }
      ],
      "source": [
        "array.prod()"
      ]
    },
    {
      "cell_type": "code",
      "execution_count": null,
      "metadata": {
        "id": "_UsNGydr5DfJ",
        "outputId": "4c156e84-b3b3-4165-ed43-c47b93ba4e4a"
      },
      "outputs": [
        {
          "data": {
            "text/plain": [
              "362880000000000"
            ]
          },
          "execution_count": 47,
          "metadata": {},
          "output_type": "execute_result"
        }
      ],
      "source": [
        "array.prod(axis=0)"
      ]
    },
    {
      "cell_type": "code",
      "execution_count": null,
      "metadata": {
        "id": "CCECSg5K5DfJ",
        "outputId": "470f642d-ce0c-46bb-aa7e-ce5b6b2e2c3b"
      },
      "outputs": [
        {
          "data": {
            "text/plain": [
              "50.0"
            ]
          },
          "execution_count": 48,
          "metadata": {},
          "output_type": "execute_result"
        }
      ],
      "source": [
        "np.average(array)"
      ]
    },
    {
      "cell_type": "code",
      "execution_count": null,
      "metadata": {
        "id": "dlE3YiVj5DfJ",
        "outputId": "b217d665-2f4f-45b1-9b25-3b02964a0a5b"
      },
      "outputs": [
        {
          "data": {
            "text/plain": [
              "10"
            ]
          },
          "execution_count": 49,
          "metadata": {},
          "output_type": "execute_result"
        }
      ],
      "source": [
        "np.min(array)"
      ]
    },
    {
      "cell_type": "code",
      "execution_count": null,
      "metadata": {
        "id": "C0exuI7F5DfJ",
        "outputId": "9b07cb2b-1bb4-4a93-c19e-3b51e54536e9"
      },
      "outputs": [
        {
          "data": {
            "text/plain": [
              "90"
            ]
          },
          "execution_count": 50,
          "metadata": {},
          "output_type": "execute_result"
        }
      ],
      "source": [
        "np.max(array)"
      ]
    },
    {
      "cell_type": "code",
      "execution_count": null,
      "metadata": {
        "id": "YkWeltB25DfJ",
        "outputId": "4eb24643-f71e-4477-c7c9-edbb42532267"
      },
      "outputs": [
        {
          "data": {
            "text/plain": [
              "50.0"
            ]
          },
          "execution_count": 51,
          "metadata": {},
          "output_type": "execute_result"
        }
      ],
      "source": [
        "np.mean(array)"
      ]
    },
    {
      "cell_type": "code",
      "execution_count": null,
      "metadata": {
        "id": "iaxhHUjh5DfJ",
        "outputId": "fda58012-6c46-41f1-8c91-d500bae24820"
      },
      "outputs": [
        {
          "data": {
            "text/plain": [
              "25.81988897471611"
            ]
          },
          "execution_count": 52,
          "metadata": {},
          "output_type": "execute_result"
        }
      ],
      "source": [
        "np.std(array)"
      ]
    },
    {
      "cell_type": "markdown",
      "metadata": {
        "id": "MuROA_O95DfK"
      },
      "source": [
        "** Unique items and Counts"
      ]
    },
    {
      "cell_type": "code",
      "execution_count": null,
      "metadata": {
        "id": "Vl8mRdHi5DfK",
        "outputId": "ac31adef-ffc2-4481-fdc4-1e8b5c8b73f8"
      },
      "outputs": [
        {
          "data": {
            "text/plain": [
              "array([ 1,  2,  3,  4, 21, 23])"
            ]
          },
          "execution_count": 55,
          "metadata": {},
          "output_type": "execute_result"
        }
      ],
      "source": [
        "array = np.array([1,2,4,2,3,1,21,23,21,1,2,4,3])\n",
        "np.unique(array)"
      ]
    },
    {
      "cell_type": "code",
      "execution_count": null,
      "metadata": {
        "id": "d8xLwfVI5DfK",
        "outputId": "dd1ebce5-23f8-4119-bb18-41fdd129fe20"
      },
      "outputs": [
        {
          "data": {
            "text/plain": [
              "array([1, 2, 3, 4, 6])"
            ]
          },
          "execution_count": 61,
          "metadata": {},
          "output_type": "execute_result"
        }
      ],
      "source": [
        "array = np.array([[1,1,2,3],[3,1,2,1],[1,1,2,3],[3,6,4,3]])\n",
        "np.unique(array)"
      ]
    },
    {
      "cell_type": "code",
      "execution_count": null,
      "metadata": {
        "id": "g3sQ-qjt5DfK",
        "outputId": "5ea4e6dd-0a10-42dc-a6e6-059c3a2c636f"
      },
      "outputs": [
        {
          "data": {
            "text/plain": [
              "array([[1, 1, 2, 3],\n",
              "       [3, 1, 2, 1],\n",
              "       [3, 6, 4, 3]])"
            ]
          },
          "execution_count": 62,
          "metadata": {},
          "output_type": "execute_result"
        }
      ],
      "source": [
        "np.unique(array,axis=0)"
      ]
    },
    {
      "cell_type": "code",
      "execution_count": null,
      "metadata": {
        "id": "mEVhqW4P5DfL",
        "outputId": "6f206fc5-5153-48cf-a4e9-b0b37c4d27a4"
      },
      "outputs": [
        {
          "data": {
            "text/plain": [
              "array([[1, 1, 2, 3],\n",
              "       [1, 3, 2, 1],\n",
              "       [1, 1, 2, 3],\n",
              "       [6, 3, 4, 3]])"
            ]
          },
          "execution_count": 63,
          "metadata": {},
          "output_type": "execute_result"
        }
      ],
      "source": [
        "np.unique(array,axis=1) #unique column"
      ]
    },
    {
      "cell_type": "code",
      "execution_count": null,
      "metadata": {
        "id": "LiH2e0dT5DfL",
        "outputId": "fed5fb3f-7a0f-477e-f8c2-b960974f736c"
      },
      "outputs": [
        {
          "data": {
            "text/plain": [
              "(array([1, 2, 3, 4, 6]), array([ 0,  2,  3, 14, 13]))"
            ]
          },
          "execution_count": 64,
          "metadata": {},
          "output_type": "execute_result"
        }
      ],
      "source": [
        "np.unique(array,return_index=True)"
      ]
    },
    {
      "cell_type": "code",
      "execution_count": null,
      "metadata": {
        "id": "Eb1Jyc6W5DfL",
        "outputId": "78d10587-5766-45ec-b389-ed2fd3faeeef"
      },
      "outputs": [
        {
          "data": {
            "text/plain": [
              "(array([1, 2, 3, 4, 6]), array([6, 3, 5, 1, 1]))"
            ]
          },
          "execution_count": 65,
          "metadata": {},
          "output_type": "execute_result"
        }
      ],
      "source": [
        "np.unique(array,return_counts=True)"
      ]
    },
    {
      "cell_type": "code",
      "execution_count": null,
      "metadata": {
        "id": "_Yu_JL_g5DfL",
        "outputId": "fab09c91-7833-4b3c-e367-aca5bfd590cf"
      },
      "outputs": [
        {
          "data": {
            "text/plain": [
              "array([[ 0,  1,  2,  3],\n",
              "       [ 4,  5,  6,  7],\n",
              "       [ 8,  9, 10, 11]])"
            ]
          },
          "execution_count": 66,
          "metadata": {},
          "output_type": "execute_result"
        }
      ],
      "source": [
        "array = np.arange(12).reshape((3,4))\n",
        "array"
      ]
    },
    {
      "cell_type": "code",
      "execution_count": null,
      "metadata": {
        "id": "L7MW8G4b5DfL",
        "outputId": "108abd81-ba23-4bfe-fe6d-e5cc9fd17664"
      },
      "outputs": [
        {
          "data": {
            "text/plain": [
              "array([[ 0,  4,  8],\n",
              "       [ 1,  5,  9],\n",
              "       [ 2,  6, 10],\n",
              "       [ 3,  7, 11]])"
            ]
          },
          "execution_count": 67,
          "metadata": {},
          "output_type": "execute_result"
        }
      ],
      "source": [
        "np.transpose(array)"
      ]
    },
    {
      "cell_type": "code",
      "execution_count": null,
      "metadata": {
        "id": "G79EX5fO5DfL",
        "outputId": "0ec9e7c7-1d18-47f7-e52b-825d7a13bfc8"
      },
      "outputs": [
        {
          "data": {
            "text/plain": [
              "array([[0, 1],\n",
              "       [2, 3],\n",
              "       [4, 5]])"
            ]
          },
          "execution_count": 68,
          "metadata": {},
          "output_type": "execute_result"
        }
      ],
      "source": [
        "array = np.arange(6).reshape(3,2)\n",
        "array"
      ]
    },
    {
      "cell_type": "code",
      "execution_count": null,
      "metadata": {
        "id": "D38p4_n65DfM",
        "outputId": "ac290e37-b7a9-43f3-b38f-95a19a67b3a2"
      },
      "outputs": [
        {
          "data": {
            "text/plain": [
              "array([[0, 2, 4],\n",
              "       [1, 3, 5]])"
            ]
          },
          "execution_count": 69,
          "metadata": {},
          "output_type": "execute_result"
        }
      ],
      "source": [
        "np.transpose(array)"
      ]
    },
    {
      "cell_type": "code",
      "execution_count": null,
      "metadata": {
        "id": "9ewAmk5G5DfM",
        "outputId": "34879f3b-ff32-4779-e043-c98c66c0fe46"
      },
      "outputs": [
        {
          "data": {
            "text/plain": [
              "array([[0, 2, 4],\n",
              "       [1, 3, 5]])"
            ]
          },
          "execution_count": 70,
          "metadata": {},
          "output_type": "execute_result"
        }
      ],
      "source": [
        "np.transpose(array,(1,0))"
      ]
    },
    {
      "cell_type": "code",
      "execution_count": null,
      "metadata": {
        "id": "qHqQFJRi5DfM",
        "outputId": "90e4daa2-f4c3-4f0d-f074-a1b963d40851"
      },
      "outputs": [
        {
          "data": {
            "text/plain": [
              "array([[[ 0,  1,  2,  3],\n",
              "        [ 4,  5,  6,  7],\n",
              "        [ 8,  9, 10, 11]],\n",
              "\n",
              "       [[12, 13, 14, 15],\n",
              "        [16, 17, 18, 19],\n",
              "        [20, 21, 22, 23]]])"
            ]
          },
          "execution_count": 71,
          "metadata": {},
          "output_type": "execute_result"
        }
      ],
      "source": [
        "array =  np.arange(24).reshape(2,3,4)\n",
        "array"
      ]
    },
    {
      "cell_type": "code",
      "execution_count": null,
      "metadata": {
        "id": "7iz0TNp-5DfM",
        "outputId": "eac4d4e1-1015-4589-d63e-6f570e34e4f5"
      },
      "outputs": [
        {
          "data": {
            "text/plain": [
              "array([[[ 0, 12],\n",
              "        [ 1, 13],\n",
              "        [ 2, 14],\n",
              "        [ 3, 15]],\n",
              "\n",
              "       [[ 4, 16],\n",
              "        [ 5, 17],\n",
              "        [ 6, 18],\n",
              "        [ 7, 19]],\n",
              "\n",
              "       [[ 8, 20],\n",
              "        [ 9, 21],\n",
              "        [10, 22],\n",
              "        [11, 23]]])"
            ]
          },
          "execution_count": 75,
          "metadata": {},
          "output_type": "execute_result"
        }
      ],
      "source": [
        "np.moveaxis(array,0,-1)"
      ]
    },
    {
      "cell_type": "code",
      "execution_count": null,
      "metadata": {
        "id": "imqJRgqy5DfM",
        "outputId": "26ac0855-a579-45c7-bf3c-dcfbec4dda00"
      },
      "outputs": [
        {
          "data": {
            "text/plain": [
              "array([[[ 0, 12],\n",
              "        [ 4, 16],\n",
              "        [ 8, 20]],\n",
              "\n",
              "       [[ 1, 13],\n",
              "        [ 5, 17],\n",
              "        [ 9, 21]],\n",
              "\n",
              "       [[ 2, 14],\n",
              "        [ 6, 18],\n",
              "        [10, 22]],\n",
              "\n",
              "       [[ 3, 15],\n",
              "        [ 7, 19],\n",
              "        [11, 23]]])"
            ]
          },
          "execution_count": 76,
          "metadata": {},
          "output_type": "execute_result"
        }
      ],
      "source": [
        "np.swapaxes(array,0,2)"
      ]
    },
    {
      "cell_type": "code",
      "execution_count": null,
      "metadata": {
        "id": "FncXtHmX5DfN",
        "outputId": "a660c317-0714-4200-ed74-84dd24ce82ff"
      },
      "outputs": [
        {
          "data": {
            "text/plain": [
              "[10, 2, 3, 4, 1, 6, 7, 5, 9]"
            ]
          },
          "execution_count": 79,
          "metadata": {},
          "output_type": "execute_result"
        }
      ],
      "source": [
        "array = [10,2,3,4,1,6,7,5,9]\n",
        "array"
      ]
    },
    {
      "cell_type": "code",
      "execution_count": null,
      "metadata": {
        "id": "JhoKbKT_5DfN",
        "outputId": "71bab42e-b53e-48b5-baa0-982000a6e462"
      },
      "outputs": [
        {
          "data": {
            "text/plain": [
              "[9, 5, 7, 6, 1, 4, 3, 2, 10]"
            ]
          },
          "execution_count": 80,
          "metadata": {},
          "output_type": "execute_result"
        }
      ],
      "source": [
        "array[::-1]"
      ]
    },
    {
      "cell_type": "code",
      "execution_count": null,
      "metadata": {
        "id": "FwduwQtR5DfN",
        "outputId": "5c82f963-942c-4606-8ac4-ea8b4b86460b"
      },
      "outputs": [
        {
          "data": {
            "text/plain": [
              "array([ 9,  5,  7,  6,  1,  4,  3,  2, 10])"
            ]
          },
          "execution_count": 81,
          "metadata": {},
          "output_type": "execute_result"
        }
      ],
      "source": [
        "np.flip(array)"
      ]
    },
    {
      "cell_type": "code",
      "execution_count": null,
      "metadata": {
        "id": "j1SkG9JN5DfN",
        "outputId": "f97ba7bd-b429-49cf-bf84-e55396a06c25"
      },
      "outputs": [
        {
          "data": {
            "text/plain": [
              "array([[0, 1, 2],\n",
              "       [3, 4, 5],\n",
              "       [6, 7, 8]])"
            ]
          },
          "execution_count": 82,
          "metadata": {},
          "output_type": "execute_result"
        }
      ],
      "source": [
        "array = np.arange(9).reshape(3,3)\n",
        "array"
      ]
    },
    {
      "cell_type": "code",
      "execution_count": null,
      "metadata": {
        "id": "Dvr93kdg5DfN",
        "outputId": "08228686-1acf-4350-97c1-4926a02f9f5d"
      },
      "outputs": [
        {
          "data": {
            "text/plain": [
              "array([[8, 7, 6],\n",
              "       [5, 4, 3],\n",
              "       [2, 1, 0]])"
            ]
          },
          "execution_count": 83,
          "metadata": {},
          "output_type": "execute_result"
        }
      ],
      "source": [
        "np.flip(array)"
      ]
    },
    {
      "cell_type": "code",
      "execution_count": null,
      "metadata": {
        "id": "4JQyE44z5DfO",
        "outputId": "873e689e-b650-4274-b8dd-0d1afa3e0d88"
      },
      "outputs": [
        {
          "data": {
            "text/plain": [
              "array([[2, 1, 0],\n",
              "       [5, 4, 3],\n",
              "       [8, 7, 6]])"
            ]
          },
          "execution_count": 84,
          "metadata": {},
          "output_type": "execute_result"
        }
      ],
      "source": [
        "np.flip(array,1)"
      ]
    },
    {
      "cell_type": "code",
      "execution_count": null,
      "metadata": {
        "id": "WFcxsVJd5DfO",
        "outputId": "94c80972-c2df-4f2a-ebe1-658abc9dac45"
      },
      "outputs": [
        {
          "data": {
            "text/plain": [
              "array([[[ 0,  1,  2,  3],\n",
              "        [ 4,  5,  6,  7],\n",
              "        [ 8,  9, 10, 11]],\n",
              "\n",
              "       [[12, 13, 14, 15],\n",
              "        [16, 17, 18, 19],\n",
              "        [20, 21, 22, 23]]])"
            ]
          },
          "execution_count": 85,
          "metadata": {},
          "output_type": "execute_result"
        }
      ],
      "source": [
        "array = np.arange(24).reshape(2,3,4)\n",
        "array"
      ]
    },
    {
      "cell_type": "code",
      "execution_count": null,
      "metadata": {
        "id": "0DHWqFNk5DfO",
        "outputId": "c539c71e-5291-46f1-fd2a-b18944e15386"
      },
      "outputs": [
        {
          "data": {
            "text/plain": [
              "array([[[ 8,  9, 10, 11],\n",
              "        [ 4,  5,  6,  7],\n",
              "        [ 0,  1,  2,  3]],\n",
              "\n",
              "       [[20, 21, 22, 23],\n",
              "        [16, 17, 18, 19],\n",
              "        [12, 13, 14, 15]]])"
            ]
          },
          "execution_count": 86,
          "metadata": {},
          "output_type": "execute_result"
        }
      ],
      "source": [
        "np.flip(array,1)"
      ]
    },
    {
      "cell_type": "code",
      "execution_count": null,
      "metadata": {
        "id": "l2YabvVB5DfO",
        "outputId": "f0618eba-c84f-4bfe-d38e-1f78945df5b4"
      },
      "outputs": [
        {
          "data": {
            "text/plain": [
              "array([[[ 3,  2,  1,  0],\n",
              "        [ 7,  6,  5,  4],\n",
              "        [11, 10,  9,  8]],\n",
              "\n",
              "       [[15, 14, 13, 12],\n",
              "        [19, 18, 17, 16],\n",
              "        [23, 22, 21, 20]]])"
            ]
          },
          "execution_count": 87,
          "metadata": {},
          "output_type": "execute_result"
        }
      ],
      "source": [
        "np.flip(array,2)"
      ]
    },
    {
      "cell_type": "code",
      "execution_count": null,
      "metadata": {
        "id": "qeh66MUC5DfO",
        "outputId": "ac24f9bc-6702-4790-a2cc-86db58667fdd"
      },
      "outputs": [
        {
          "data": {
            "text/plain": [
              "array([ 2, 12, 30, 56, 90])"
            ]
          },
          "execution_count": 88,
          "metadata": {},
          "output_type": "execute_result"
        }
      ],
      "source": [
        "import numpy as np\n",
        "\n",
        "arr1 = np.array([2,4,6,8,10])\n",
        "arr2 = np.array([1,3,5,7,9])\n",
        "\n",
        "arr1*arr2"
      ]
    },
    {
      "cell_type": "code",
      "execution_count": null,
      "metadata": {
        "id": "lCGSeZ345DfO"
      },
      "outputs": [],
      "source": []
    },
    {
      "cell_type": "code",
      "execution_count": null,
      "metadata": {
        "id": "vEa6jzQz5DfO"
      },
      "outputs": [],
      "source": []
    },
    {
      "cell_type": "code",
      "execution_count": null,
      "metadata": {
        "colab": {
          "base_uri": "https://localhost:8080/"
        },
        "id": "5hIGbmJc_gC2",
        "outputId": "f2c06123-d393-45bd-e9aa-d07fee3e532c"
      },
      "outputs": [
        {
          "name": "stdout",
          "output_type": "stream",
          "text": [
            "[[1.02875494]\n",
            " [1.81603255]\n",
            " [0.88391737]\n",
            " ...\n",
            " [2.23805336]\n",
            " [0.76238113]\n",
            " [0.85343682]]\n",
            "Regular for loop= 739.5064830780029ms\n",
            "\n",
            "\n",
            "[[1.02875494]\n",
            " [1.81603255]\n",
            " [0.88391737]\n",
            " ...\n",
            " [2.23805336]\n",
            " [0.76238113]\n",
            " [0.85343682]]\n",
            "Numpy operation= 20.451068878173828ms\n",
            "\n",
            "\n",
            "Numpy is 36.16 times faster than for loop in Python.\n"
          ]
        }
      ],
      "source": [
        "import time\n",
        "import math\n",
        "import numpy as np\n",
        "\n",
        "iter = 1000000\n",
        "\n",
        "x = np.zeros((iter,1))\n",
        "v = np.random.randn(iter,1)\n",
        "\n",
        "before = time.time()\n",
        "\n",
        "for i in range(iter):\n",
        "    x[i] = math.exp(v[i])\n",
        "after = time.time()\n",
        "print(x)\n",
        "print(\"Regular for loop= \" + str((after-before)*1000) + \"ms\")\n",
        "print('\\n')\n",
        "time1 = (after-before)*1000\n",
        "\n",
        "before = time.time()\n",
        "x = np.exp(v)\n",
        "after = time.time()\n",
        "print(x)\n",
        "print(\"Numpy operation= \" + str((after-before)*1000) + \"ms\")\n",
        "time2 = (after-before)*1000\n",
        "print('\\n')\n",
        "print(\"Numpy is \"+ str(round(time1/time2,2)) + \" times faster than for loop in Python.\")"
      ]
    },
    {
      "cell_type": "code",
      "execution_count": null,
      "metadata": {
        "colab": {
          "base_uri": "https://localhost:8080/"
        },
        "id": "Cin98RzKAwhS",
        "outputId": "0b717f3d-b430-4fd9-c0d9-069682e8ff1e"
      },
      "outputs": [
        {
          "data": {
            "text/plain": [
              "array([   0,    1,    2, ..., 9997, 9998, 9999])"
            ]
          },
          "execution_count": 54,
          "metadata": {},
          "output_type": "execute_result"
        }
      ],
      "source": [
        "arr = np.arange(10000)\n",
        "arr"
      ]
    },
    {
      "cell_type": "code",
      "execution_count": null,
      "metadata": {
        "colab": {
          "base_uri": "https://localhost:8080/"
        },
        "id": "vgPrFJrnNihM",
        "outputId": "3c9fe489-6ba6-428c-e3c0-f78be9be24cd"
      },
      "outputs": [
        {
          "data": {
            "text/plain": [
              "array([[   0,    1],\n",
              "       [   2,    3],\n",
              "       [   4,    5],\n",
              "       ...,\n",
              "       [9994, 9995],\n",
              "       [9996, 9997],\n",
              "       [9998, 9999]])"
            ]
          },
          "execution_count": 55,
          "metadata": {},
          "output_type": "execute_result"
        }
      ],
      "source": [
        "arr.reshape(5000,2)"
      ]
    },
    {
      "cell_type": "code",
      "execution_count": null,
      "metadata": {
        "colab": {
          "base_uri": "https://localhost:8080/"
        },
        "id": "isDGR5p-Ns4Q",
        "outputId": "033db60f-a61f-4226-f4bb-0d34f6b54f65"
      },
      "outputs": [
        {
          "data": {
            "text/plain": [
              "array([   0,    1,    2, ..., 9997, 9998, 9999])"
            ]
          },
          "execution_count": 56,
          "metadata": {},
          "output_type": "execute_result"
        }
      ],
      "source": [
        "arr.T"
      ]
    }
  ],
  "metadata": {
    "colab": {
      "provenance": [],
      "collapsed_sections": [
        "A-ATOdOo5De5",
        "OxZ3XwU55DfE"
      ],
      "include_colab_link": true
    },
    "kernelspec": {
      "display_name": "Python 3 (ipykernel)",
      "language": "python",
      "name": "python3"
    },
    "language_info": {
      "codemirror_mode": {
        "name": "ipython",
        "version": 3
      },
      "file_extension": ".py",
      "mimetype": "text/x-python",
      "name": "python",
      "nbconvert_exporter": "python",
      "pygments_lexer": "ipython3",
      "version": "3.10.6"
    }
  },
  "nbformat": 4,
  "nbformat_minor": 0
}